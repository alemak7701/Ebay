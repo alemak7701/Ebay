{
  "nbformat": 4,
  "nbformat_minor": 0,
  "metadata": {
    "colab": {
      "name": "EbayAddItemProduction.ipynb",
      "provenance": []
    },
    "kernelspec": {
      "name": "python3",
      "display_name": "Python 3"
    }
  },
  "cells": [
    {
      "cell_type": "code",
      "metadata": {
        "id": "TN6z20980XQW",
        "colab_type": "code",
        "colab": {
          "base_uri": "https://localhost:8080/",
          "height": 224
        },
        "outputId": "cfcf64ba-e9da-43df-a500-ab52fe43371e"
      },
      "source": [
        "!pip install ebaysdk\n"
      ],
      "execution_count": null,
      "outputs": [
        {
          "output_type": "stream",
          "text": [
            "Collecting ebaysdk\n",
            "\u001b[?25l  Downloading https://files.pythonhosted.org/packages/5c/6c/81b7f8cd9561f9b7ccf86f9084a3d5b26aed75e894b207a007312bf87c17/ebaysdk-2.2.0-py3-none-any.whl (72kB)\n",
            "\u001b[K     |████████████████████████████████| 81kB 2.6MB/s \n",
            "\u001b[?25hRequirement already satisfied: lxml in /usr/local/lib/python3.6/dist-packages (from ebaysdk) (4.2.6)\n",
            "Requirement already satisfied: requests in /usr/local/lib/python3.6/dist-packages (from ebaysdk) (2.23.0)\n",
            "Requirement already satisfied: idna<3,>=2.5 in /usr/local/lib/python3.6/dist-packages (from requests->ebaysdk) (2.10)\n",
            "Requirement already satisfied: chardet<4,>=3.0.2 in /usr/local/lib/python3.6/dist-packages (from requests->ebaysdk) (3.0.4)\n",
            "Requirement already satisfied: urllib3!=1.25.0,!=1.25.1,<1.26,>=1.21.1 in /usr/local/lib/python3.6/dist-packages (from requests->ebaysdk) (1.24.3)\n",
            "Requirement already satisfied: certifi>=2017.4.17 in /usr/local/lib/python3.6/dist-packages (from requests->ebaysdk) (2020.6.20)\n",
            "Installing collected packages: ebaysdk\n",
            "Successfully installed ebaysdk-2.2.0\n"
          ],
          "name": "stdout"
        }
      ]
    },
    {
      "cell_type": "code",
      "metadata": {
        "id": "H3canKs1SfSz",
        "colab_type": "code",
        "colab": {}
      },
      "source": [
        "import ebaysdk\n",
        "from ebaysdk.trading import Connection\n",
        "import pandas as pd"
      ],
      "execution_count": null,
      "outputs": []
    },
    {
      "cell_type": "code",
      "metadata": {
        "id": "MwyX1Q831rbZ",
        "colab_type": "code",
        "colab": {
          "base_uri": "https://localhost:8080/",
          "height": 122
        },
        "outputId": "c18d5eb0-e686-44f3-fd5e-25c9c8745bdc"
      },
      "source": [
        "\n",
        "from google.colab import drive\n",
        "drive.mount(\"/content/drive\", force_remount=True)"
      ],
      "execution_count": null,
      "outputs": [
        {
          "output_type": "stream",
          "text": [
            "Go to this URL in a browser: https://accounts.google.com/o/oauth2/auth?client_id=947318989803-6bn6qk8qdgf4n4g3pfee6491hc0brc4i.apps.googleusercontent.com&redirect_uri=urn%3aietf%3awg%3aoauth%3a2.0%3aoob&scope=email%20https%3a%2f%2fwww.googleapis.com%2fauth%2fdocs.test%20https%3a%2f%2fwww.googleapis.com%2fauth%2fdrive%20https%3a%2f%2fwww.googleapis.com%2fauth%2fdrive.photos.readonly%20https%3a%2f%2fwww.googleapis.com%2fauth%2fpeopleapi.readonly&response_type=code\n",
            "\n",
            "Enter your authorization code:\n",
            "··········\n",
            "Mounted at /content/drive\n"
          ],
          "name": "stdout"
        }
      ]
    },
    {
      "cell_type": "markdown",
      "metadata": {
        "id": "-lgPNMxaxYkv",
        "colab_type": "text"
      },
      "source": [
        "#Getting Data"
      ]
    },
    {
      "cell_type": "code",
      "metadata": {
        "id": "4NJCVr77xbuF",
        "colab_type": "code",
        "colab": {
          "base_uri": "https://localhost:8080/",
          "height": 402
        },
        "outputId": "8488e6f8-5a6b-428d-ac48-db45ad65a4e3"
      },
      "source": [
        "#Get CSV file\n",
        "df = pd.read_csv(\"/content/drive/My Drive/Bedding/Data Sets/Test Inventory.csv\")\n",
        "df"
      ],
      "execution_count": null,
      "outputs": [
        {
          "output_type": "execute_result",
          "data": {
            "text/html": [
              "<div>\n",
              "<style scoped>\n",
              "    .dataframe tbody tr th:only-of-type {\n",
              "        vertical-align: middle;\n",
              "    }\n",
              "\n",
              "    .dataframe tbody tr th {\n",
              "        vertical-align: top;\n",
              "    }\n",
              "\n",
              "    .dataframe thead th {\n",
              "        text-align: right;\n",
              "    }\n",
              "</style>\n",
              "<table border=\"1\" class=\"dataframe\">\n",
              "  <thead>\n",
              "    <tr style=\"text-align: right;\">\n",
              "      <th></th>\n",
              "      <th>Brand</th>\n",
              "      <th>Type</th>\n",
              "      <th>Size</th>\n",
              "      <th>Thread Count</th>\n",
              "      <th>Color</th>\n",
              "      <th>Material</th>\n",
              "      <th>Quantity</th>\n",
              "      <th>Start Price</th>\n",
              "      <th>Condition ID</th>\n",
              "      <th>Category ID</th>\n",
              "      <th>Description</th>\n",
              "      <th>Picture URL</th>\n",
              "    </tr>\n",
              "  </thead>\n",
              "  <tbody>\n",
              "    <tr>\n",
              "      <th>0</th>\n",
              "      <td>Wamsutta DreamZone</td>\n",
              "      <td>Pillowcase Set</td>\n",
              "      <td>King</td>\n",
              "      <td>750</td>\n",
              "      <td>Charcoal</td>\n",
              "      <td>Cotton</td>\n",
              "      <td>3</td>\n",
              "      <td>40</td>\n",
              "      <td>1000</td>\n",
              "      <td>43397</td>\n",
              "      <td>Includes 2 King Pillowcases (20 in x 40 in), m...</td>\n",
              "      <td>NaN</td>\n",
              "    </tr>\n",
              "    <tr>\n",
              "      <th>1</th>\n",
              "      <td>Wamsutta DreamZone</td>\n",
              "      <td>Pillowcase Set</td>\n",
              "      <td>King</td>\n",
              "      <td>750</td>\n",
              "      <td>Spice Red</td>\n",
              "      <td>Cotton</td>\n",
              "      <td>2</td>\n",
              "      <td>40</td>\n",
              "      <td>1000</td>\n",
              "      <td>43397</td>\n",
              "      <td>Includes 2 King Pillowcases (20 in x 40 in), m...</td>\n",
              "      <td>NaN</td>\n",
              "    </tr>\n",
              "    <tr>\n",
              "      <th>2</th>\n",
              "      <td>Wamsutta DreamZone</td>\n",
              "      <td>Pillowcase Set</td>\n",
              "      <td>King</td>\n",
              "      <td>750</td>\n",
              "      <td>Aqua</td>\n",
              "      <td>Cotton</td>\n",
              "      <td>2</td>\n",
              "      <td>40</td>\n",
              "      <td>1000</td>\n",
              "      <td>43397</td>\n",
              "      <td>Includes 2 King Pillowcases (20 in x 40 in), m...</td>\n",
              "      <td>NaN</td>\n",
              "    </tr>\n",
              "    <tr>\n",
              "      <th>3</th>\n",
              "      <td>Wamsutta DreamZone</td>\n",
              "      <td>Pillowcase Set</td>\n",
              "      <td>King</td>\n",
              "      <td>750</td>\n",
              "      <td>Sky</td>\n",
              "      <td>Cotton</td>\n",
              "      <td>1</td>\n",
              "      <td>40</td>\n",
              "      <td>1000</td>\n",
              "      <td>43397</td>\n",
              "      <td>Includes 2 King Pillowcases (20 in x 40 in), m...</td>\n",
              "      <td>NaN</td>\n",
              "    </tr>\n",
              "    <tr>\n",
              "      <th>4</th>\n",
              "      <td>Wamsutta DreamZone</td>\n",
              "      <td>Pillowcase Set</td>\n",
              "      <td>King</td>\n",
              "      <td>750</td>\n",
              "      <td>Ivory</td>\n",
              "      <td>Cotton</td>\n",
              "      <td>1</td>\n",
              "      <td>40</td>\n",
              "      <td>1000</td>\n",
              "      <td>43397</td>\n",
              "      <td>Includes 2 King Pillowcases (20 in x 40 in), m...</td>\n",
              "      <td>NaN</td>\n",
              "    </tr>\n",
              "    <tr>\n",
              "      <th>5</th>\n",
              "      <td>Wamsutta DreamZone</td>\n",
              "      <td>Pillowcase Set</td>\n",
              "      <td>King</td>\n",
              "      <td>750</td>\n",
              "      <td>Laven</td>\n",
              "      <td>Cotton</td>\n",
              "      <td>1</td>\n",
              "      <td>40</td>\n",
              "      <td>1000</td>\n",
              "      <td>43397</td>\n",
              "      <td>Includes 2 King Pillowcases (20 in x 40 in), m...</td>\n",
              "      <td>NaN</td>\n",
              "    </tr>\n",
              "    <tr>\n",
              "      <th>6</th>\n",
              "      <td>Wamsutta DreamZone</td>\n",
              "      <td>Pillowcase Set</td>\n",
              "      <td>Queen</td>\n",
              "      <td>750</td>\n",
              "      <td>Laven</td>\n",
              "      <td>Cotton</td>\n",
              "      <td>2</td>\n",
              "      <td>40</td>\n",
              "      <td>1000</td>\n",
              "      <td>43397</td>\n",
              "      <td>Includes 2 Queen Pillowcases (20 in x 32 in), ...</td>\n",
              "      <td>NaN</td>\n",
              "    </tr>\n",
              "  </tbody>\n",
              "</table>\n",
              "</div>"
            ],
            "text/plain": [
              "                Brand  ... Picture URL\n",
              "0  Wamsutta DreamZone  ...         NaN\n",
              "1  Wamsutta DreamZone  ...         NaN\n",
              "2  Wamsutta DreamZone  ...         NaN\n",
              "3  Wamsutta DreamZone  ...         NaN\n",
              "4  Wamsutta DreamZone  ...         NaN\n",
              "5  Wamsutta DreamZone  ...         NaN\n",
              "6  Wamsutta DreamZone  ...         NaN\n",
              "\n",
              "[7 rows x 12 columns]"
            ]
          },
          "metadata": {
            "tags": []
          },
          "execution_count": 18
        }
      ]
    },
    {
      "cell_type": "markdown",
      "metadata": {
        "id": "zqjY_z2AxeSS",
        "colab_type": "text"
      },
      "source": [
        "#Process Data into Item Object"
      ]
    },
    {
      "cell_type": "code",
      "metadata": {
        "id": "9RmJJCDpxmI0",
        "colab_type": "code",
        "colab": {}
      },
      "source": [
        "#Create Item class, and store all of them in an inventory array\n",
        "inventory = []"
      ],
      "execution_count": null,
      "outputs": []
    },
    {
      "cell_type": "code",
      "metadata": {
        "id": "JF1EV-QO-n34",
        "colab_type": "code",
        "colab": {}
      },
      "source": [
        "#Item class \n",
        "class Item:\n",
        "  def __init__(self, brand, Type, size,\n",
        "               threadCount, color, material, startPrice, \n",
        "               condition, category, description, pictures):\n",
        "    \n",
        "    self.name = self.makeName(brand, Type, size, threadCount, color)\n",
        "    self.color = color.title()\n",
        "    self.brand = brand.title()\n",
        "    self.size = size.title()\n",
        "    self.price = startPrice\n",
        "    self.Type = Type.title()\n",
        "    self.material = material.title()\n",
        "    self.condition = str(condition)\n",
        "    self.category = str(category)\n",
        "    self.description = description\n",
        "\n",
        "  def makeName(self, brand, Type, size, threadCount, color):\n",
        "    if threadCount == \"?\":\n",
        "      return \"New {0} {1} {2} {3} Size\".format(color.title(), brand.title(), Type.title(), size.title()) \n",
        "    else:\n",
        "      return \"New {0} {1} {2} {3} Size {4} TC\".format(color.title(), brand.title(), Type.title(), size.title(), threadCount) "
      ],
      "execution_count": null,
      "outputs": []
    },
    {
      "cell_type": "code",
      "metadata": {
        "id": "ovD23aDD-3ts",
        "colab_type": "code",
        "colab": {}
      },
      "source": [
        "for index, row in df.iterrows():\n",
        "    temp = Item(row[\"Brand\"], row[\"Type\"], row[\"Size\"], \n",
        "                row[\"Thread Count\"], row[\"Color\"], row[\"Material\"], row[\"Start Price\"],\n",
        "                row[\"Condition ID\"], row[\"Category ID\"], row[\"Description\"],\n",
        "                row[\"Picture URL\"])\n",
        "    inventory.append(temp)\n"
      ],
      "execution_count": null,
      "outputs": []
    },
    {
      "cell_type": "code",
      "metadata": {
        "id": "NvpTQtcOPXA3",
        "colab_type": "code",
        "colab": {
          "base_uri": "https://localhost:8080/",
          "height": 51
        },
        "outputId": "d18bd544-0113-4d1a-fde8-368d4e31e1c8"
      },
      "source": [
        "x = inventory[0]\n",
        "print(x.name, x.price, x.condition, x.category, x.description )\n",
        "print(len(inventory))"
      ],
      "execution_count": null,
      "outputs": [
        {
          "output_type": "stream",
          "text": [
            "New Charcoal Wamsutta Dreamzone Pillowcase Set King Size 750 TC 40 1000 43397 Includes 2 King Pillowcases (20 in x 40 in), made from 100% Cotton\n",
            "7\n"
          ],
          "name": "stdout"
        }
      ]
    },
    {
      "cell_type": "markdown",
      "metadata": {
        "id": "j0VSIAO1xsrL",
        "colab_type": "text"
      },
      "source": [
        "#Post all Items on Ebay using API"
      ]
    },
    {
      "cell_type": "code",
      "metadata": {
        "id": "OMN4MIAJ09Aj",
        "colab_type": "code",
        "colab": {
          "base_uri": "https://localhost:8080/",
          "height": 34
        },
        "outputId": "ebfe737d-8f5e-4d1a-983f-268dc6463317"
      },
      "source": [
        "api = Connection(config_file=\"/content/drive/My Drive/Bedding/Data Sets/ebay.yaml\", domain=\"api.ebay.com\", debug=True)\n",
        "api"
      ],
      "execution_count": null,
      "outputs": [
        {
          "output_type": "execute_result",
          "data": {
            "text/plain": [
              "<ebaysdk.trading.Connection at 0x7f3c9e94fb38>"
            ]
          },
          "metadata": {
            "tags": []
          },
          "execution_count": 23
        }
      ]
    },
    {
      "cell_type": "code",
      "metadata": {
        "id": "lzJxNVlcN6ML",
        "colab_type": "code",
        "colab": {
          "base_uri": "https://localhost:8080/",
          "height": 1000
        },
        "outputId": "90bc8569-9b72-4366-dce6-b65bdba8cf5e"
      },
      "source": [
        "for item in inventory:\n",
        "  request = {\n",
        "        \"Item\": {\n",
        "            \"Title\": item.name,\n",
        "            \"Country\": \"US\",\n",
        "            \"Location\": \"CA\",\n",
        "            \"Site\": \"US\",\n",
        "            \"ConditionID\": item.condition,\n",
        "            \"PaymentMethods\": \"PayPal\",\n",
        "            \"PayPalEmailAddress\": \"alexm7701@gmail.com\",\n",
        "            \"PrimaryCategory\": {\"CategoryID\": item.category},\n",
        "            \"ListingDuration\" : \"Days_10\",\n",
        "            \"Description\": item.description,\n",
        "            \"StartPrice\": item.price,\n",
        "            \"Currency\": \"USD\",\n",
        "            \"PictureDetails\": {\n",
        "                \"PictureURL\": []},\n",
        "            \"ItemSpecifics\": {\n",
        "                \"NameValueList\" :[\n",
        "                    {\n",
        "                    \"Name\": \"Brand\",\n",
        "                    \"Value\": item.brand\n",
        "                    },\n",
        "                    {\n",
        "                    \"Name\": \"Color\",\n",
        "                    \"Value\": item.color\n",
        "                    },\n",
        "                    {\n",
        "                    \"Name\": \"Size\",\n",
        "                    \"Value\": item.size\n",
        "                    },\n",
        "                    {\n",
        "                    \"Name\": \"Material\",\n",
        "                    \"Value\": item.material\n",
        "                    },\n",
        "                    {\n",
        "                    \"Name\": \"Type\",\n",
        "                    \"Value\": item.Type\n",
        "                    }\n",
        "                ]\n",
        "            },\n",
        "            \"ReturnPolicy\": {\n",
        "                \"ReturnsAcceptedOption\": \"ReturnsNotAccepted\"\n",
        "            },\n",
        "            \"ShippingDetails\": {\n",
        "                \"ShippingServiceOptions\": {\n",
        "                    \"FreeShipping\": \"True\",\n",
        "                    \"ShippingService\": \"USPSFirstClass\"\n",
        "                }\n",
        "            },\n",
        "            \"DispatchTimeMax\": \"1\"\n",
        "        }\n",
        "    }\n",
        "  \n",
        "  api.execute(\"AddFixedPriceItem\", request)"
      ],
      "execution_count": null,
      "outputs": [
        {
          "output_type": "stream",
          "text": [
            "2020-09-01 23:35:28,524 ebaysdk [DEBUG]:execute: verb=AddFixedPriceItem data={'Item': {'Title': 'New Charcoal Wamsutta Dreamzone Pillowcase Set King Size 750 TC', 'Country': 'US', 'Location': 'CA', 'Site': 'US', 'ConditionID': '1000', 'PaymentMethods': 'PayPal', 'PayPalEmailAddress': 'alexm7701@gmail.com', 'PrimaryCategory': {'CategoryID': '43397'}, 'ListingDuration': 'Days_10', 'Description': 'Includes 2 King Pillowcases (20 in x 40 in), made from 100% Cotton', 'StartPrice': 40, 'Currency': 'USD', 'PictureDetails': {'PictureURL': []}, 'ItemSpecifics': {'NameValueList': [{'Name': 'Brand', 'Value': 'Wamsutta Dreamzone'}, {'Name': 'Color', 'Value': 'Charcoal'}, {'Name': 'Size', 'Value': 'King'}, {'Name': 'Material', 'Value': 'Cotton'}, {'Name': 'Type', 'Value': 'Pillowcase Set'}]}, 'ReturnPolicy': {'ReturnsAcceptedOption': 'ReturnsNotAccepted'}, 'ShippingDetails': {'ShippingServiceOptions': {'FreeShipping': 'True', 'ShippingService': 'USPSFirstClass'}}, 'DispatchTimeMax': '1'}}\n",
            "2020-09-01 23:35:28,529 ebaysdk [DEBUG]:REQUEST (98d3f427-6c84-47ad-ad3f-e2fe4de3a2b4): POST https://api.ebay.com/ws/api.dll\n",
            "2020-09-01 23:35:28,531 ebaysdk [DEBUG]:headers={'X-EBAY-API-COMPATIBILITY-LEVEL': '837', 'X-EBAY-API-DEV-NAME': '7eb728b9-29b3-483b-ade1-3fd88988f59b', 'X-EBAY-API-APP-NAME': 'AlexMak-PycharmT-PRD-82eba4255-32577e0c', 'X-EBAY-API-CERT-NAME': 'PRD-2eba4255122e-9458-4a81-b213-a95d', 'X-EBAY-API-SITEID': '0', 'X-EBAY-API-CALL-NAME': 'AddFixedPriceItem', 'Content-Type': 'text/xml', 'User-Agent': 'eBaySDK/2.2.0 Python/3.6.9 Linux/4.19.112+', 'X-EBAY-SDK-REQUEST-ID': '98d3f427-6c84-47ad-ad3f-e2fe4de3a2b4', 'Content-Length': '2341'}\n",
            "2020-09-01 23:35:28,532 ebaysdk [DEBUG]:body=b'<?xml version=\\'1.0\\' encoding=\\'utf-8\\'?><AddFixedPriceItemRequest xmlns=\"urn:ebay:apis:eBLBaseComponents\"><RequesterCredentials><eBayAuthToken>AgAAAA**AQAAAA**aAAAAA**l5rxXg**nY+sHZ2PrBmdj6wVnY+sEZ2PrA2dj6ANmICmDJKBqQ6dj6x9nY+seQ**sFgGAA**AAMAAA**5fc5kGY5FXEx/tFXCiI9wJz56vMEe2NQSkLnx9OdqH2FMVV0mC5zWSdVy3tBB/VhrkX0axyHltSvZLXO6OnayBCMLGjXV2ao3RvkoaLRid8pEVwy1vMTcv2iNhGwi/V9W67YMTDItwxQGAIwz1O3HUpxCMUKE0x2lR3CFqX3ZKppNJiexLS0CFV5JMrv7WyhJvulC1WKqz1x5DgS2Dtjr3LbKf86lpvegeejGVwnuSQQ2djoh/B7JB6g+wsNLORsa6qr0/DdGFi2f1o2PkkVDVJLD8Hvk0pLWqNac9iYTfPtX38CtL5YKd7iQUY6srnfwm3sM3SIzILnd9W3OlSBxJnzdpYNNl8hRsIRkVzvY/bE+n9vCEYrQVfYjh2aZdPFJcvEANhmfCIEWbCxo4Qq13sITT3hq9A0/fnjv0ytFH46vYLqp0egaHGsqXoIcfncaMIckdDxG+lJjng9H26/denN98mvJRlj6pX+158Hbzcfkj8EyhbYSKLk/IR4Gcb2onxys8MTMQQVP4xnbnpIDTcpBBH2/77TKMzLFNP9+RqZs4ADXSQeMqKlS8w/LdIPxXbNUJqQmhvEXzEKShcQErnYhDP+otF1roUk7XfwdE3toSmhsNaWXTzHHZmO6o3dc1kZwuq9SECcUsD0mpPi7zKGWnMIbesCyWI88iGJKvy2L3gjboJB9F4EIpJPxtLH1AOjcN6MnmFVpHczHWk0nBJ27PG6rBL/xHJxZ2YgyEnjcdg/RIYILX3VBuSkoAWF</eBayAuthToken></RequesterCredentials><Item><ConditionID>1000</ConditionID><Country>US</Country><Currency>USD</Currency><Description>Includes 2 King Pillowcases (20 in x 40 in), made from 100% Cotton</Description><DispatchTimeMax>1</DispatchTimeMax><ItemSpecifics><NameValueList><Name>Brand</Name><Value>Wamsutta Dreamzone</Value></NameValueList><NameValueList><Name>Color</Name><Value>Charcoal</Value></NameValueList><NameValueList><Name>Size</Name><Value>King</Value></NameValueList><NameValueList><Name>Material</Name><Value>Cotton</Value></NameValueList><NameValueList><Name>Type</Name><Value>Pillowcase Set</Value></NameValueList></ItemSpecifics><ListingDuration>Days_10</ListingDuration><Location>CA</Location><PayPalEmailAddress>alexm7701@gmail.com</PayPalEmailAddress><PaymentMethods>PayPal</PaymentMethods><PictureDetails></PictureDetails><PrimaryCategory><CategoryID>43397</CategoryID></PrimaryCategory><ReturnPolicy><ReturnsAcceptedOption>ReturnsNotAccepted</ReturnsAcceptedOption></ReturnPolicy><ShippingDetails><ShippingServiceOptions><FreeShipping>True</FreeShipping><ShippingService>USPSFirstClass</ShippingService></ShippingServiceOptions></ShippingDetails><Site>US</Site><StartPrice>40</StartPrice><Title>New Charcoal Wamsutta Dreamzone Pillowcase Set King Size 750 TC</Title></Item></AddFixedPriceItemRequest>'\n",
            "2020-09-01 23:35:30,527 ebaysdk [DEBUG]:RESPONSE (98d3f427-6c84-47ad-ad3f-e2fe4de3a2b4):\n",
            "2020-09-01 23:35:30,528 ebaysdk [DEBUG]:elapsed time=0:00:01.992736\n",
            "2020-09-01 23:35:30,529 ebaysdk [DEBUG]:status code=200\n",
            "2020-09-01 23:35:30,530 ebaysdk [DEBUG]:headers={'content-type': 'text/xml', 'guid': '1744c068-0d70-aadb-2f94-0284fede6caa', 'server': 'ebay-proxy-server', 'x-ebay-api-pool-name': '___cDRidW8ydmtv', 'x-ebay-api-server-name': '___anFwZHw3Mig3NjM0NzQ6Kjc3LTQ/Pi00MTItNDYyOT02PzM=', 'x-ebay-esb-app-name': 'AlexMak-PycharmT-PRD-82eba4255-32577e0c', 'x-ebay-esb-call-name': 'AddFixedPriceItem', 'x-ebay-esb-guid': 'urn:uuid:4f0da4a0-209a-4623-97f1-11cd5256dd82', 'x-ebay-esb-siteid': '0', 'x-ebay-request-id': '1744c068-0d70-aadb-2f94-0284fede6caa!ws.api.dll!10.173.178.249!esbnewtrdngesb[', 'date': 'Tue, 01 Sep 2020 23:35:30 GMT', 'content-length': '2896', 'x-envoy-upstream-service-time': '1778', 'x-ebay-pop-id': 'UFES2-LVSAZ01-api'}\n",
            "2020-09-01 23:35:30,532 ebaysdk [DEBUG]:content=<?xml version=\"1.0\" encoding=\"UTF-8\"?>\n",
            "<AddFixedPriceItemResponse xmlns=\"urn:ebay:apis:eBLBaseComponents\"><Timestamp>2020-09-01T23:35:30.484Z</Timestamp><Ack>Warning</Ack><Errors><ShortMessage>Only Good &apos;Til Cancelled duration is supported for fixed price listings.</ShortMessage><LongMessage>To help you sell your item, fixed price listings can only be listed with a Good &apos;Til Cancelled duration. The listing duration has been set to Good &apos;Til Cancelled.</LongMessage><ErrorCode>21920214</ErrorCode><SeverityCode>Warning</SeverityCode><ErrorClassification>RequestError</ErrorClassification></Errors><Version>1169</Version><Build>E1169_UNI_API5_19247202_R1</Build><ItemID>224141431179</ItemID><StartTime>2020-09-01T23:35:29.453Z</StartTime><EndTime>2020-10-01T23:35:29.453Z</EndTime><Fees><Fee><Name>AuctionLengthFee</Name><Fee currencyID=\"USD\">0.0</Fee></Fee><Fee><Name>BoldFee</Name><Fee currencyID=\"USD\">0.0</Fee></Fee><Fee><Name>BuyItNowFee</Name><Fee currencyID=\"USD\">0.0</Fee></Fee><Fee><Name>CategoryFeaturedFee</Name><Fee currencyID=\"USD\">0.0</Fee></Fee><Fee><Name>FeaturedFee</Name><Fee currencyID=\"USD\">0.0</Fee></Fee><Fee><Name>GalleryPlusFee</Name><Fee currencyID=\"USD\">0.0</Fee></Fee><Fee><Name>FeaturedGalleryFee</Name><Fee currencyID=\"USD\">0.0</Fee></Fee><Fee><Name>FixedPriceDurationFee</Name><Fee currencyID=\"USD\">0.0</Fee></Fee><Fee><Name>GalleryFee</Name><Fee currencyID=\"USD\">0.0</Fee></Fee><Fee><Name>GiftIconFee</Name><Fee currencyID=\"USD\">0.0</Fee></Fee><Fee><Name>HighLightFee</Name><Fee currencyID=\"USD\">0.0</Fee></Fee><Fee><Name>InsertionFee</Name><Fee currencyID=\"USD\">0.0</Fee><PromotionalDiscount currencyID=\"USD\">0.35</PromotionalDiscount></Fee><Fee><Name>InternationalInsertionFee</Name><Fee currencyID=\"USD\">0.0</Fee></Fee><Fee><Name>ListingDesignerFee</Name><Fee currencyID=\"USD\">0.0</Fee></Fee><Fee><Name>ListingFee</Name><Fee currencyID=\"USD\">0.0</Fee><PromotionalDiscount currencyID=\"USD\">0.35</PromotionalDiscount></Fee><Fee><Name>PhotoDisplayFee</Name><Fee currencyID=\"USD\">0.0</Fee></Fee><Fee><Name>PhotoFee</Name><Fee currencyID=\"USD\">0.0</Fee></Fee><Fee><Name>ReserveFee</Name><Fee currencyID=\"USD\">0.0</Fee></Fee><Fee><Name>SchedulingFee</Name><Fee currencyID=\"USD\">0.0</Fee></Fee><Fee><Name>SubtitleFee</Name><Fee currencyID=\"USD\">0.0</Fee></Fee><Fee><Name>BorderFee</Name><Fee currencyID=\"USD\">0.0</Fee></Fee><Fee><Name>ProPackBundleFee</Name><Fee currencyID=\"USD\">0.0</Fee></Fee><Fee><Name>BasicUpgradePackBundleFee</Name><Fee currencyID=\"USD\">0.0</Fee></Fee><Fee><Name>ValuePackBundleFee</Name><Fee currencyID=\"USD\">0.0</Fee></Fee><Fee><Name>PrivateListingFee</Name><Fee currencyID=\"USD\">0.0</Fee></Fee><Fee><Name>ProPackPlusBundleFee</Name><Fee currencyID=\"USD\">0.0</Fee></Fee><Fee><Name>MotorsGermanySearchFee</Name><Fee currencyID=\"USD\">0.0</Fee></Fee></Fees><DiscountReason>SpecialOffer</DiscountReason></AddFixedPriceItemResponse>\n",
            "2020-09-01 23:35:30,546 ebaysdk [WARNING]:AddFixedPriceItem: Class: RequestError, Severity: Warning, Code: 21920214, Only Good 'Til Cancelled duration is supported for fixed price listings. To help you sell your item, fixed price listings can only be listed with a Good 'Til Cancelled duration. The listing duration has been set to Good 'Til Cancelled.\n",
            "\n",
            "\n",
            "2020-09-01 23:35:30,547 ebaysdk [DEBUG]:total time=2.0182595252990723\n",
            "2020-09-01 23:35:30,547 ebaysdk [DEBUG]:execute: verb=AddFixedPriceItem data={'Item': {'Title': 'New Spice Red Wamsutta Dreamzone Pillowcase Set King Size 750 TC', 'Country': 'US', 'Location': 'CA', 'Site': 'US', 'ConditionID': '1000', 'PaymentMethods': 'PayPal', 'PayPalEmailAddress': 'alexm7701@gmail.com', 'PrimaryCategory': {'CategoryID': '43397'}, 'ListingDuration': 'Days_10', 'Description': 'Includes 2 King Pillowcases (20 in x 40 in), made from 100% Cotton', 'StartPrice': 40, 'Currency': 'USD', 'PictureDetails': {'PictureURL': []}, 'ItemSpecifics': {'NameValueList': [{'Name': 'Brand', 'Value': 'Wamsutta Dreamzone'}, {'Name': 'Color', 'Value': 'Spice Red'}, {'Name': 'Size', 'Value': 'King'}, {'Name': 'Material', 'Value': 'Cotton'}, {'Name': 'Type', 'Value': 'Pillowcase Set'}]}, 'ReturnPolicy': {'ReturnsAcceptedOption': 'ReturnsNotAccepted'}, 'ShippingDetails': {'ShippingServiceOptions': {'FreeShipping': 'True', 'ShippingService': 'USPSFirstClass'}}, 'DispatchTimeMax': '1'}}\n",
            "2020-09-01 23:35:30,551 ebaysdk [DEBUG]:REQUEST (20332e5b-327c-4173-9dc5-2e737bbb46c8): POST https://api.ebay.com/ws/api.dll\n",
            "2020-09-01 23:35:30,553 ebaysdk [DEBUG]:headers={'X-EBAY-API-COMPATIBILITY-LEVEL': '837', 'X-EBAY-API-DEV-NAME': '7eb728b9-29b3-483b-ade1-3fd88988f59b', 'X-EBAY-API-APP-NAME': 'AlexMak-PycharmT-PRD-82eba4255-32577e0c', 'X-EBAY-API-CERT-NAME': 'PRD-2eba4255122e-9458-4a81-b213-a95d', 'X-EBAY-API-SITEID': '0', 'X-EBAY-API-CALL-NAME': 'AddFixedPriceItem', 'Content-Type': 'text/xml', 'User-Agent': 'eBaySDK/2.2.0 Python/3.6.9 Linux/4.19.112+', 'X-EBAY-SDK-REQUEST-ID': '20332e5b-327c-4173-9dc5-2e737bbb46c8', 'Content-Length': '2343'}\n",
            "2020-09-01 23:35:30,554 ebaysdk [DEBUG]:body=b'<?xml version=\\'1.0\\' encoding=\\'utf-8\\'?><AddFixedPriceItemRequest xmlns=\"urn:ebay:apis:eBLBaseComponents\"><RequesterCredentials><eBayAuthToken>AgAAAA**AQAAAA**aAAAAA**l5rxXg**nY+sHZ2PrBmdj6wVnY+sEZ2PrA2dj6ANmICmDJKBqQ6dj6x9nY+seQ**sFgGAA**AAMAAA**5fc5kGY5FXEx/tFXCiI9wJz56vMEe2NQSkLnx9OdqH2FMVV0mC5zWSdVy3tBB/VhrkX0axyHltSvZLXO6OnayBCMLGjXV2ao3RvkoaLRid8pEVwy1vMTcv2iNhGwi/V9W67YMTDItwxQGAIwz1O3HUpxCMUKE0x2lR3CFqX3ZKppNJiexLS0CFV5JMrv7WyhJvulC1WKqz1x5DgS2Dtjr3LbKf86lpvegeejGVwnuSQQ2djoh/B7JB6g+wsNLORsa6qr0/DdGFi2f1o2PkkVDVJLD8Hvk0pLWqNac9iYTfPtX38CtL5YKd7iQUY6srnfwm3sM3SIzILnd9W3OlSBxJnzdpYNNl8hRsIRkVzvY/bE+n9vCEYrQVfYjh2aZdPFJcvEANhmfCIEWbCxo4Qq13sITT3hq9A0/fnjv0ytFH46vYLqp0egaHGsqXoIcfncaMIckdDxG+lJjng9H26/denN98mvJRlj6pX+158Hbzcfkj8EyhbYSKLk/IR4Gcb2onxys8MTMQQVP4xnbnpIDTcpBBH2/77TKMzLFNP9+RqZs4ADXSQeMqKlS8w/LdIPxXbNUJqQmhvEXzEKShcQErnYhDP+otF1roUk7XfwdE3toSmhsNaWXTzHHZmO6o3dc1kZwuq9SECcUsD0mpPi7zKGWnMIbesCyWI88iGJKvy2L3gjboJB9F4EIpJPxtLH1AOjcN6MnmFVpHczHWk0nBJ27PG6rBL/xHJxZ2YgyEnjcdg/RIYILX3VBuSkoAWF</eBayAuthToken></RequesterCredentials><Item><ConditionID>1000</ConditionID><Country>US</Country><Currency>USD</Currency><Description>Includes 2 King Pillowcases (20 in x 40 in), made from 100% Cotton</Description><DispatchTimeMax>1</DispatchTimeMax><ItemSpecifics><NameValueList><Name>Brand</Name><Value>Wamsutta Dreamzone</Value></NameValueList><NameValueList><Name>Color</Name><Value>Spice Red</Value></NameValueList><NameValueList><Name>Size</Name><Value>King</Value></NameValueList><NameValueList><Name>Material</Name><Value>Cotton</Value></NameValueList><NameValueList><Name>Type</Name><Value>Pillowcase Set</Value></NameValueList></ItemSpecifics><ListingDuration>Days_10</ListingDuration><Location>CA</Location><PayPalEmailAddress>alexm7701@gmail.com</PayPalEmailAddress><PaymentMethods>PayPal</PaymentMethods><PictureDetails></PictureDetails><PrimaryCategory><CategoryID>43397</CategoryID></PrimaryCategory><ReturnPolicy><ReturnsAcceptedOption>ReturnsNotAccepted</ReturnsAcceptedOption></ReturnPolicy><ShippingDetails><ShippingServiceOptions><FreeShipping>True</FreeShipping><ShippingService>USPSFirstClass</ShippingService></ShippingServiceOptions></ShippingDetails><Site>US</Site><StartPrice>40</StartPrice><Title>New Spice Red Wamsutta Dreamzone Pillowcase Set King Size 750 TC</Title></Item></AddFixedPriceItemRequest>'\n",
            "2020-09-01 23:35:32,959 ebaysdk [DEBUG]:RESPONSE (20332e5b-327c-4173-9dc5-2e737bbb46c8):\n",
            "2020-09-01 23:35:32,960 ebaysdk [DEBUG]:elapsed time=0:00:02.403157\n",
            "2020-09-01 23:35:32,962 ebaysdk [DEBUG]:status code=200\n",
            "2020-09-01 23:35:32,963 ebaysdk [DEBUG]:headers={'content-type': 'text/xml', 'guid': '1744c068-8fd0-a489-4dc0-ca90feebe764', 'server': 'ebay-proxy-server', 'x-ebay-api-pool-name': '___cDRidW8ydmtv', 'x-ebay-api-server-name': '___dGlsZHw3MSg+NjY1MzYsNDYpMTQ3KTI8MSkyPDw/Mz02', 'x-ebay-esb-app-name': 'AlexMak-PycharmT-PRD-82eba4255-32577e0c', 'x-ebay-esb-call-name': 'AddFixedPriceItem', 'x-ebay-esb-guid': 'urn:uuid:e21d6ac5-3ffc-41b0-a460-96a10c5bd0d6', 'x-ebay-esb-siteid': '0', 'x-ebay-request-id': '1744c068-8fd0-a489-4dc0-ca90feebe764!ws.api.dll!10.72.148.220!esbnewtrdngesb[', 'date': 'Tue, 01 Sep 2020 23:35:32 GMT', 'content-length': '2896', 'x-envoy-upstream-service-time': '2130', 'x-ebay-pop-id': 'UFES2-RNOAZ03-api'}\n",
            "2020-09-01 23:35:32,965 ebaysdk [DEBUG]:content=<?xml version=\"1.0\" encoding=\"UTF-8\"?>\n",
            "<AddFixedPriceItemResponse xmlns=\"urn:ebay:apis:eBLBaseComponents\"><Timestamp>2020-09-01T23:35:32.907Z</Timestamp><Ack>Warning</Ack><Errors><ShortMessage>Only Good &apos;Til Cancelled duration is supported for fixed price listings.</ShortMessage><LongMessage>To help you sell your item, fixed price listings can only be listed with a Good &apos;Til Cancelled duration. The listing duration has been set to Good &apos;Til Cancelled.</LongMessage><ErrorCode>21920214</ErrorCode><SeverityCode>Warning</SeverityCode><ErrorClassification>RequestError</ErrorClassification></Errors><Version>1169</Version><Build>E1169_UNI_API5_19247202_R1</Build><ItemID>224141431196</ItemID><StartTime>2020-09-01T23:35:31.672Z</StartTime><EndTime>2020-10-01T23:35:31.672Z</EndTime><Fees><Fee><Name>AuctionLengthFee</Name><Fee currencyID=\"USD\">0.0</Fee></Fee><Fee><Name>BoldFee</Name><Fee currencyID=\"USD\">0.0</Fee></Fee><Fee><Name>BuyItNowFee</Name><Fee currencyID=\"USD\">0.0</Fee></Fee><Fee><Name>CategoryFeaturedFee</Name><Fee currencyID=\"USD\">0.0</Fee></Fee><Fee><Name>FeaturedFee</Name><Fee currencyID=\"USD\">0.0</Fee></Fee><Fee><Name>GalleryPlusFee</Name><Fee currencyID=\"USD\">0.0</Fee></Fee><Fee><Name>FeaturedGalleryFee</Name><Fee currencyID=\"USD\">0.0</Fee></Fee><Fee><Name>FixedPriceDurationFee</Name><Fee currencyID=\"USD\">0.0</Fee></Fee><Fee><Name>GalleryFee</Name><Fee currencyID=\"USD\">0.0</Fee></Fee><Fee><Name>GiftIconFee</Name><Fee currencyID=\"USD\">0.0</Fee></Fee><Fee><Name>HighLightFee</Name><Fee currencyID=\"USD\">0.0</Fee></Fee><Fee><Name>InsertionFee</Name><Fee currencyID=\"USD\">0.0</Fee><PromotionalDiscount currencyID=\"USD\">0.35</PromotionalDiscount></Fee><Fee><Name>InternationalInsertionFee</Name><Fee currencyID=\"USD\">0.0</Fee></Fee><Fee><Name>ListingDesignerFee</Name><Fee currencyID=\"USD\">0.0</Fee></Fee><Fee><Name>ListingFee</Name><Fee currencyID=\"USD\">0.0</Fee><PromotionalDiscount currencyID=\"USD\">0.35</PromotionalDiscount></Fee><Fee><Name>PhotoDisplayFee</Name><Fee currencyID=\"USD\">0.0</Fee></Fee><Fee><Name>PhotoFee</Name><Fee currencyID=\"USD\">0.0</Fee></Fee><Fee><Name>ReserveFee</Name><Fee currencyID=\"USD\">0.0</Fee></Fee><Fee><Name>SchedulingFee</Name><Fee currencyID=\"USD\">0.0</Fee></Fee><Fee><Name>SubtitleFee</Name><Fee currencyID=\"USD\">0.0</Fee></Fee><Fee><Name>BorderFee</Name><Fee currencyID=\"USD\">0.0</Fee></Fee><Fee><Name>ProPackBundleFee</Name><Fee currencyID=\"USD\">0.0</Fee></Fee><Fee><Name>BasicUpgradePackBundleFee</Name><Fee currencyID=\"USD\">0.0</Fee></Fee><Fee><Name>ValuePackBundleFee</Name><Fee currencyID=\"USD\">0.0</Fee></Fee><Fee><Name>PrivateListingFee</Name><Fee currencyID=\"USD\">0.0</Fee></Fee><Fee><Name>ProPackPlusBundleFee</Name><Fee currencyID=\"USD\">0.0</Fee></Fee><Fee><Name>MotorsGermanySearchFee</Name><Fee currencyID=\"USD\">0.0</Fee></Fee></Fees><DiscountReason>SpecialOffer</DiscountReason></AddFixedPriceItemResponse>\n",
            "2020-09-01 23:35:32,972 ebaysdk [WARNING]:AddFixedPriceItem: Class: RequestError, Severity: Warning, Code: 21920214, Only Good 'Til Cancelled duration is supported for fixed price listings. To help you sell your item, fixed price listings can only be listed with a Good 'Til Cancelled duration. The listing duration has been set to Good 'Til Cancelled.\n",
            "\n",
            "\n",
            "2020-09-01 23:35:32,974 ebaysdk [DEBUG]:total time=2.423114538192749\n",
            "2020-09-01 23:35:32,975 ebaysdk [DEBUG]:execute: verb=AddFixedPriceItem data={'Item': {'Title': 'New Aqua Wamsutta Dreamzone Pillowcase Set King Size 750 TC', 'Country': 'US', 'Location': 'CA', 'Site': 'US', 'ConditionID': '1000', 'PaymentMethods': 'PayPal', 'PayPalEmailAddress': 'alexm7701@gmail.com', 'PrimaryCategory': {'CategoryID': '43397'}, 'ListingDuration': 'Days_10', 'Description': 'Includes 2 King Pillowcases (20 in x 40 in), made from 100% Cotton', 'StartPrice': 40, 'Currency': 'USD', 'PictureDetails': {'PictureURL': []}, 'ItemSpecifics': {'NameValueList': [{'Name': 'Brand', 'Value': 'Wamsutta Dreamzone'}, {'Name': 'Color', 'Value': 'Aqua'}, {'Name': 'Size', 'Value': 'King'}, {'Name': 'Material', 'Value': 'Cotton'}, {'Name': 'Type', 'Value': 'Pillowcase Set'}]}, 'ReturnPolicy': {'ReturnsAcceptedOption': 'ReturnsNotAccepted'}, 'ShippingDetails': {'ShippingServiceOptions': {'FreeShipping': 'True', 'ShippingService': 'USPSFirstClass'}}, 'DispatchTimeMax': '1'}}\n",
            "2020-09-01 23:35:32,977 ebaysdk [DEBUG]:REQUEST (b36c2e0b-fb7b-4885-97e2-05295e9c4156): POST https://api.ebay.com/ws/api.dll\n",
            "2020-09-01 23:35:32,978 ebaysdk [DEBUG]:headers={'X-EBAY-API-COMPATIBILITY-LEVEL': '837', 'X-EBAY-API-DEV-NAME': '7eb728b9-29b3-483b-ade1-3fd88988f59b', 'X-EBAY-API-APP-NAME': 'AlexMak-PycharmT-PRD-82eba4255-32577e0c', 'X-EBAY-API-CERT-NAME': 'PRD-2eba4255122e-9458-4a81-b213-a95d', 'X-EBAY-API-SITEID': '0', 'X-EBAY-API-CALL-NAME': 'AddFixedPriceItem', 'Content-Type': 'text/xml', 'User-Agent': 'eBaySDK/2.2.0 Python/3.6.9 Linux/4.19.112+', 'X-EBAY-SDK-REQUEST-ID': 'b36c2e0b-fb7b-4885-97e2-05295e9c4156', 'Content-Length': '2333'}\n",
            "2020-09-01 23:35:32,979 ebaysdk [DEBUG]:body=b'<?xml version=\\'1.0\\' encoding=\\'utf-8\\'?><AddFixedPriceItemRequest xmlns=\"urn:ebay:apis:eBLBaseComponents\"><RequesterCredentials><eBayAuthToken>AgAAAA**AQAAAA**aAAAAA**l5rxXg**nY+sHZ2PrBmdj6wVnY+sEZ2PrA2dj6ANmICmDJKBqQ6dj6x9nY+seQ**sFgGAA**AAMAAA**5fc5kGY5FXEx/tFXCiI9wJz56vMEe2NQSkLnx9OdqH2FMVV0mC5zWSdVy3tBB/VhrkX0axyHltSvZLXO6OnayBCMLGjXV2ao3RvkoaLRid8pEVwy1vMTcv2iNhGwi/V9W67YMTDItwxQGAIwz1O3HUpxCMUKE0x2lR3CFqX3ZKppNJiexLS0CFV5JMrv7WyhJvulC1WKqz1x5DgS2Dtjr3LbKf86lpvegeejGVwnuSQQ2djoh/B7JB6g+wsNLORsa6qr0/DdGFi2f1o2PkkVDVJLD8Hvk0pLWqNac9iYTfPtX38CtL5YKd7iQUY6srnfwm3sM3SIzILnd9W3OlSBxJnzdpYNNl8hRsIRkVzvY/bE+n9vCEYrQVfYjh2aZdPFJcvEANhmfCIEWbCxo4Qq13sITT3hq9A0/fnjv0ytFH46vYLqp0egaHGsqXoIcfncaMIckdDxG+lJjng9H26/denN98mvJRlj6pX+158Hbzcfkj8EyhbYSKLk/IR4Gcb2onxys8MTMQQVP4xnbnpIDTcpBBH2/77TKMzLFNP9+RqZs4ADXSQeMqKlS8w/LdIPxXbNUJqQmhvEXzEKShcQErnYhDP+otF1roUk7XfwdE3toSmhsNaWXTzHHZmO6o3dc1kZwuq9SECcUsD0mpPi7zKGWnMIbesCyWI88iGJKvy2L3gjboJB9F4EIpJPxtLH1AOjcN6MnmFVpHczHWk0nBJ27PG6rBL/xHJxZ2YgyEnjcdg/RIYILX3VBuSkoAWF</eBayAuthToken></RequesterCredentials><Item><ConditionID>1000</ConditionID><Country>US</Country><Currency>USD</Currency><Description>Includes 2 King Pillowcases (20 in x 40 in), made from 100% Cotton</Description><DispatchTimeMax>1</DispatchTimeMax><ItemSpecifics><NameValueList><Name>Brand</Name><Value>Wamsutta Dreamzone</Value></NameValueList><NameValueList><Name>Color</Name><Value>Aqua</Value></NameValueList><NameValueList><Name>Size</Name><Value>King</Value></NameValueList><NameValueList><Name>Material</Name><Value>Cotton</Value></NameValueList><NameValueList><Name>Type</Name><Value>Pillowcase Set</Value></NameValueList></ItemSpecifics><ListingDuration>Days_10</ListingDuration><Location>CA</Location><PayPalEmailAddress>alexm7701@gmail.com</PayPalEmailAddress><PaymentMethods>PayPal</PaymentMethods><PictureDetails></PictureDetails><PrimaryCategory><CategoryID>43397</CategoryID></PrimaryCategory><ReturnPolicy><ReturnsAcceptedOption>ReturnsNotAccepted</ReturnsAcceptedOption></ReturnPolicy><ShippingDetails><ShippingServiceOptions><FreeShipping>True</FreeShipping><ShippingService>USPSFirstClass</ShippingService></ShippingServiceOptions></ShippingDetails><Site>US</Site><StartPrice>40</StartPrice><Title>New Aqua Wamsutta Dreamzone Pillowcase Set King Size 750 TC</Title></Item></AddFixedPriceItemRequest>'\n",
            "2020-09-01 23:35:34,878 ebaysdk [DEBUG]:RESPONSE (b36c2e0b-fb7b-4885-97e2-05295e9c4156):\n",
            "2020-09-01 23:35:34,879 ebaysdk [DEBUG]:elapsed time=0:00:01.897919\n",
            "2020-09-01 23:35:34,880 ebaysdk [DEBUG]:status code=200\n",
            "2020-09-01 23:35:34,881 ebaysdk [DEBUG]:headers={'content-type': 'text/xml', 'guid': '1744c069-2260-aadc-1651-0ab1fedc19f1', 'server': 'ebay-proxy-server', 'x-ebay-api-pool-name': '___cDRidW8ydmtv', 'x-ebay-api-server-name': '___anFwZHw3Mig3Nzo8NzExKjc3LTQ/Pi00PjUtMTY9OzU+Nw==', 'x-ebay-esb-app-name': 'AlexMak-PycharmT-PRD-82eba4255-32577e0c', 'x-ebay-esb-call-name': 'AddFixedPriceItem', 'x-ebay-esb-guid': 'urn:uuid:3fb44e86-e636-4e98-b820-b6ac577cdfbf', 'x-ebay-esb-siteid': '0', 'x-ebay-request-id': '1744c069-2260-aadc-1651-0ab1fedc19f1!ws.api.dll!10.173.193.101!esbnewtrdngesb[', 'date': 'Tue, 01 Sep 2020 23:35:34 GMT', 'content-length': '2896', 'x-envoy-upstream-service-time': '1701', 'x-ebay-pop-id': 'UFES2-LVSAZ01-api'}\n",
            "2020-09-01 23:35:34,881 ebaysdk [DEBUG]:content=<?xml version=\"1.0\" encoding=\"UTF-8\"?>\n",
            "<AddFixedPriceItemResponse xmlns=\"urn:ebay:apis:eBLBaseComponents\"><Timestamp>2020-09-01T23:35:34.855Z</Timestamp><Ack>Warning</Ack><Errors><ShortMessage>Only Good &apos;Til Cancelled duration is supported for fixed price listings.</ShortMessage><LongMessage>To help you sell your item, fixed price listings can only be listed with a Good &apos;Til Cancelled duration. The listing duration has been set to Good &apos;Til Cancelled.</LongMessage><ErrorCode>21920214</ErrorCode><SeverityCode>Warning</SeverityCode><ErrorClassification>RequestError</ErrorClassification></Errors><Version>1169</Version><Build>E1169_UNI_API5_19247202_R1</Build><ItemID>224141431256</ItemID><StartTime>2020-09-01T23:35:33.886Z</StartTime><EndTime>2020-10-01T23:35:33.886Z</EndTime><Fees><Fee><Name>AuctionLengthFee</Name><Fee currencyID=\"USD\">0.0</Fee></Fee><Fee><Name>BoldFee</Name><Fee currencyID=\"USD\">0.0</Fee></Fee><Fee><Name>BuyItNowFee</Name><Fee currencyID=\"USD\">0.0</Fee></Fee><Fee><Name>CategoryFeaturedFee</Name><Fee currencyID=\"USD\">0.0</Fee></Fee><Fee><Name>FeaturedFee</Name><Fee currencyID=\"USD\">0.0</Fee></Fee><Fee><Name>GalleryPlusFee</Name><Fee currencyID=\"USD\">0.0</Fee></Fee><Fee><Name>FeaturedGalleryFee</Name><Fee currencyID=\"USD\">0.0</Fee></Fee><Fee><Name>FixedPriceDurationFee</Name><Fee currencyID=\"USD\">0.0</Fee></Fee><Fee><Name>GalleryFee</Name><Fee currencyID=\"USD\">0.0</Fee></Fee><Fee><Name>GiftIconFee</Name><Fee currencyID=\"USD\">0.0</Fee></Fee><Fee><Name>HighLightFee</Name><Fee currencyID=\"USD\">0.0</Fee></Fee><Fee><Name>InsertionFee</Name><Fee currencyID=\"USD\">0.0</Fee><PromotionalDiscount currencyID=\"USD\">0.35</PromotionalDiscount></Fee><Fee><Name>InternationalInsertionFee</Name><Fee currencyID=\"USD\">0.0</Fee></Fee><Fee><Name>ListingDesignerFee</Name><Fee currencyID=\"USD\">0.0</Fee></Fee><Fee><Name>ListingFee</Name><Fee currencyID=\"USD\">0.0</Fee><PromotionalDiscount currencyID=\"USD\">0.35</PromotionalDiscount></Fee><Fee><Name>PhotoDisplayFee</Name><Fee currencyID=\"USD\">0.0</Fee></Fee><Fee><Name>PhotoFee</Name><Fee currencyID=\"USD\">0.0</Fee></Fee><Fee><Name>ReserveFee</Name><Fee currencyID=\"USD\">0.0</Fee></Fee><Fee><Name>SchedulingFee</Name><Fee currencyID=\"USD\">0.0</Fee></Fee><Fee><Name>SubtitleFee</Name><Fee currencyID=\"USD\">0.0</Fee></Fee><Fee><Name>BorderFee</Name><Fee currencyID=\"USD\">0.0</Fee></Fee><Fee><Name>ProPackBundleFee</Name><Fee currencyID=\"USD\">0.0</Fee></Fee><Fee><Name>BasicUpgradePackBundleFee</Name><Fee currencyID=\"USD\">0.0</Fee></Fee><Fee><Name>ValuePackBundleFee</Name><Fee currencyID=\"USD\">0.0</Fee></Fee><Fee><Name>PrivateListingFee</Name><Fee currencyID=\"USD\">0.0</Fee></Fee><Fee><Name>ProPackPlusBundleFee</Name><Fee currencyID=\"USD\">0.0</Fee></Fee><Fee><Name>MotorsGermanySearchFee</Name><Fee currencyID=\"USD\">0.0</Fee></Fee></Fees><DiscountReason>SpecialOffer</DiscountReason></AddFixedPriceItemResponse>\n",
            "2020-09-01 23:35:34,887 ebaysdk [WARNING]:AddFixedPriceItem: Class: RequestError, Severity: Warning, Code: 21920214, Only Good 'Til Cancelled duration is supported for fixed price listings. To help you sell your item, fixed price listings can only be listed with a Good 'Til Cancelled duration. The listing duration has been set to Good 'Til Cancelled.\n",
            "\n",
            "\n",
            "2020-09-01 23:35:34,889 ebaysdk [DEBUG]:total time=1.9127309322357178\n",
            "2020-09-01 23:35:34,890 ebaysdk [DEBUG]:execute: verb=AddFixedPriceItem data={'Item': {'Title': 'New Sky Wamsutta Dreamzone Pillowcase Set King Size 750 TC', 'Country': 'US', 'Location': 'CA', 'Site': 'US', 'ConditionID': '1000', 'PaymentMethods': 'PayPal', 'PayPalEmailAddress': 'alexm7701@gmail.com', 'PrimaryCategory': {'CategoryID': '43397'}, 'ListingDuration': 'Days_10', 'Description': 'Includes 2 King Pillowcases (20 in x 40 in), made from 100% Cotton', 'StartPrice': 40, 'Currency': 'USD', 'PictureDetails': {'PictureURL': []}, 'ItemSpecifics': {'NameValueList': [{'Name': 'Brand', 'Value': 'Wamsutta Dreamzone'}, {'Name': 'Color', 'Value': 'Sky'}, {'Name': 'Size', 'Value': 'King'}, {'Name': 'Material', 'Value': 'Cotton'}, {'Name': 'Type', 'Value': 'Pillowcase Set'}]}, 'ReturnPolicy': {'ReturnsAcceptedOption': 'ReturnsNotAccepted'}, 'ShippingDetails': {'ShippingServiceOptions': {'FreeShipping': 'True', 'ShippingService': 'USPSFirstClass'}}, 'DispatchTimeMax': '1'}}\n",
            "2020-09-01 23:35:34,891 ebaysdk [DEBUG]:REQUEST (df9795a2-25bd-4497-8544-b47169022a20): POST https://api.ebay.com/ws/api.dll\n",
            "2020-09-01 23:35:34,894 ebaysdk [DEBUG]:headers={'X-EBAY-API-COMPATIBILITY-LEVEL': '837', 'X-EBAY-API-DEV-NAME': '7eb728b9-29b3-483b-ade1-3fd88988f59b', 'X-EBAY-API-APP-NAME': 'AlexMak-PycharmT-PRD-82eba4255-32577e0c', 'X-EBAY-API-CERT-NAME': 'PRD-2eba4255122e-9458-4a81-b213-a95d', 'X-EBAY-API-SITEID': '0', 'X-EBAY-API-CALL-NAME': 'AddFixedPriceItem', 'Content-Type': 'text/xml', 'User-Agent': 'eBaySDK/2.2.0 Python/3.6.9 Linux/4.19.112+', 'X-EBAY-SDK-REQUEST-ID': 'df9795a2-25bd-4497-8544-b47169022a20', 'Content-Length': '2331'}\n",
            "2020-09-01 23:35:34,895 ebaysdk [DEBUG]:body=b'<?xml version=\\'1.0\\' encoding=\\'utf-8\\'?><AddFixedPriceItemRequest xmlns=\"urn:ebay:apis:eBLBaseComponents\"><RequesterCredentials><eBayAuthToken>AgAAAA**AQAAAA**aAAAAA**l5rxXg**nY+sHZ2PrBmdj6wVnY+sEZ2PrA2dj6ANmICmDJKBqQ6dj6x9nY+seQ**sFgGAA**AAMAAA**5fc5kGY5FXEx/tFXCiI9wJz56vMEe2NQSkLnx9OdqH2FMVV0mC5zWSdVy3tBB/VhrkX0axyHltSvZLXO6OnayBCMLGjXV2ao3RvkoaLRid8pEVwy1vMTcv2iNhGwi/V9W67YMTDItwxQGAIwz1O3HUpxCMUKE0x2lR3CFqX3ZKppNJiexLS0CFV5JMrv7WyhJvulC1WKqz1x5DgS2Dtjr3LbKf86lpvegeejGVwnuSQQ2djoh/B7JB6g+wsNLORsa6qr0/DdGFi2f1o2PkkVDVJLD8Hvk0pLWqNac9iYTfPtX38CtL5YKd7iQUY6srnfwm3sM3SIzILnd9W3OlSBxJnzdpYNNl8hRsIRkVzvY/bE+n9vCEYrQVfYjh2aZdPFJcvEANhmfCIEWbCxo4Qq13sITT3hq9A0/fnjv0ytFH46vYLqp0egaHGsqXoIcfncaMIckdDxG+lJjng9H26/denN98mvJRlj6pX+158Hbzcfkj8EyhbYSKLk/IR4Gcb2onxys8MTMQQVP4xnbnpIDTcpBBH2/77TKMzLFNP9+RqZs4ADXSQeMqKlS8w/LdIPxXbNUJqQmhvEXzEKShcQErnYhDP+otF1roUk7XfwdE3toSmhsNaWXTzHHZmO6o3dc1kZwuq9SECcUsD0mpPi7zKGWnMIbesCyWI88iGJKvy2L3gjboJB9F4EIpJPxtLH1AOjcN6MnmFVpHczHWk0nBJ27PG6rBL/xHJxZ2YgyEnjcdg/RIYILX3VBuSkoAWF</eBayAuthToken></RequesterCredentials><Item><ConditionID>1000</ConditionID><Country>US</Country><Currency>USD</Currency><Description>Includes 2 King Pillowcases (20 in x 40 in), made from 100% Cotton</Description><DispatchTimeMax>1</DispatchTimeMax><ItemSpecifics><NameValueList><Name>Brand</Name><Value>Wamsutta Dreamzone</Value></NameValueList><NameValueList><Name>Color</Name><Value>Sky</Value></NameValueList><NameValueList><Name>Size</Name><Value>King</Value></NameValueList><NameValueList><Name>Material</Name><Value>Cotton</Value></NameValueList><NameValueList><Name>Type</Name><Value>Pillowcase Set</Value></NameValueList></ItemSpecifics><ListingDuration>Days_10</ListingDuration><Location>CA</Location><PayPalEmailAddress>alexm7701@gmail.com</PayPalEmailAddress><PaymentMethods>PayPal</PaymentMethods><PictureDetails></PictureDetails><PrimaryCategory><CategoryID>43397</CategoryID></PrimaryCategory><ReturnPolicy><ReturnsAcceptedOption>ReturnsNotAccepted</ReturnsAcceptedOption></ReturnPolicy><ShippingDetails><ShippingServiceOptions><FreeShipping>True</FreeShipping><ShippingService>USPSFirstClass</ShippingService></ShippingServiceOptions></ShippingDetails><Site>US</Site><StartPrice>40</StartPrice><Title>New Sky Wamsutta Dreamzone Pillowcase Set King Size 750 TC</Title></Item></AddFixedPriceItemRequest>'\n",
            "2020-09-01 23:35:36,226 ebaysdk [DEBUG]:RESPONSE (df9795a2-25bd-4497-8544-b47169022a20):\n",
            "2020-09-01 23:35:36,227 ebaysdk [DEBUG]:elapsed time=0:00:01.329373\n",
            "2020-09-01 23:35:36,228 ebaysdk [DEBUG]:status code=200\n",
            "2020-09-01 23:35:36,229 ebaysdk [DEBUG]:headers={'content-type': 'text/xml', 'guid': '1744c069-9ae0-a489-4152-a262feee12b1', 'server': 'ebay-proxy-server', 'x-ebay-api-pool-name': '___cDRidW8ydmtv', 'x-ebay-api-server-name': '___dWtgNTEqMDM/NjUzNygyNSg1Mj0oNjU8KDYxNDw/Mz02', 'x-ebay-esb-app-name': 'AlexMak-PycharmT-PRD-82eba4255-32577e0c', 'x-ebay-esb-call-name': 'AddFixedPriceItem', 'x-ebay-esb-guid': 'urn:uuid:29ae4e44-b18d-4980-bf46-aca243a089fd', 'x-ebay-esb-siteid': '0', 'x-ebay-request-id': '1744c069-9ae0-a489-4152-a262feee12b1!ws.api.dll!10.72.148.21!esbnewtrdngesb[', 'date': 'Tue, 01 Sep 2020 23:35:35 GMT', 'content-length': '2896', 'x-envoy-upstream-service-time': '1123', 'x-ebay-pop-id': 'UFES2-RNOAZ03-api'}\n",
            "2020-09-01 23:35:36,230 ebaysdk [DEBUG]:content=<?xml version=\"1.0\" encoding=\"UTF-8\"?>\n",
            "<AddFixedPriceItemResponse xmlns=\"urn:ebay:apis:eBLBaseComponents\"><Timestamp>2020-09-01T23:35:36.152Z</Timestamp><Ack>Warning</Ack><Errors><ShortMessage>Only Good &apos;Til Cancelled duration is supported for fixed price listings.</ShortMessage><LongMessage>To help you sell your item, fixed price listings can only be listed with a Good &apos;Til Cancelled duration. The listing duration has been set to Good &apos;Til Cancelled.</LongMessage><ErrorCode>21920214</ErrorCode><SeverityCode>Warning</SeverityCode><ErrorClassification>RequestError</ErrorClassification></Errors><Version>1169</Version><Build>E1169_UNI_API5_19247202_R1</Build><ItemID>224141431297</ItemID><StartTime>2020-09-01T23:35:35.636Z</StartTime><EndTime>2020-10-01T23:35:35.636Z</EndTime><Fees><Fee><Name>AuctionLengthFee</Name><Fee currencyID=\"USD\">0.0</Fee></Fee><Fee><Name>BoldFee</Name><Fee currencyID=\"USD\">0.0</Fee></Fee><Fee><Name>BuyItNowFee</Name><Fee currencyID=\"USD\">0.0</Fee></Fee><Fee><Name>CategoryFeaturedFee</Name><Fee currencyID=\"USD\">0.0</Fee></Fee><Fee><Name>FeaturedFee</Name><Fee currencyID=\"USD\">0.0</Fee></Fee><Fee><Name>GalleryPlusFee</Name><Fee currencyID=\"USD\">0.0</Fee></Fee><Fee><Name>FeaturedGalleryFee</Name><Fee currencyID=\"USD\">0.0</Fee></Fee><Fee><Name>FixedPriceDurationFee</Name><Fee currencyID=\"USD\">0.0</Fee></Fee><Fee><Name>GalleryFee</Name><Fee currencyID=\"USD\">0.0</Fee></Fee><Fee><Name>GiftIconFee</Name><Fee currencyID=\"USD\">0.0</Fee></Fee><Fee><Name>HighLightFee</Name><Fee currencyID=\"USD\">0.0</Fee></Fee><Fee><Name>InsertionFee</Name><Fee currencyID=\"USD\">0.0</Fee><PromotionalDiscount currencyID=\"USD\">0.35</PromotionalDiscount></Fee><Fee><Name>InternationalInsertionFee</Name><Fee currencyID=\"USD\">0.0</Fee></Fee><Fee><Name>ListingDesignerFee</Name><Fee currencyID=\"USD\">0.0</Fee></Fee><Fee><Name>ListingFee</Name><Fee currencyID=\"USD\">0.0</Fee><PromotionalDiscount currencyID=\"USD\">0.35</PromotionalDiscount></Fee><Fee><Name>PhotoDisplayFee</Name><Fee currencyID=\"USD\">0.0</Fee></Fee><Fee><Name>PhotoFee</Name><Fee currencyID=\"USD\">0.0</Fee></Fee><Fee><Name>ReserveFee</Name><Fee currencyID=\"USD\">0.0</Fee></Fee><Fee><Name>SchedulingFee</Name><Fee currencyID=\"USD\">0.0</Fee></Fee><Fee><Name>SubtitleFee</Name><Fee currencyID=\"USD\">0.0</Fee></Fee><Fee><Name>BorderFee</Name><Fee currencyID=\"USD\">0.0</Fee></Fee><Fee><Name>ProPackBundleFee</Name><Fee currencyID=\"USD\">0.0</Fee></Fee><Fee><Name>BasicUpgradePackBundleFee</Name><Fee currencyID=\"USD\">0.0</Fee></Fee><Fee><Name>ValuePackBundleFee</Name><Fee currencyID=\"USD\">0.0</Fee></Fee><Fee><Name>PrivateListingFee</Name><Fee currencyID=\"USD\">0.0</Fee></Fee><Fee><Name>ProPackPlusBundleFee</Name><Fee currencyID=\"USD\">0.0</Fee></Fee><Fee><Name>MotorsGermanySearchFee</Name><Fee currencyID=\"USD\">0.0</Fee></Fee></Fees><DiscountReason>SpecialOffer</DiscountReason></AddFixedPriceItemResponse>\n",
            "2020-09-01 23:35:36,240 ebaysdk [WARNING]:AddFixedPriceItem: Class: RequestError, Severity: Warning, Code: 21920214, Only Good 'Til Cancelled duration is supported for fixed price listings. To help you sell your item, fixed price listings can only be listed with a Good 'Til Cancelled duration. The listing duration has been set to Good 'Til Cancelled.\n",
            "\n",
            "\n",
            "2020-09-01 23:35:36,240 ebaysdk [DEBUG]:total time=1.3497061729431152\n",
            "2020-09-01 23:35:36,245 ebaysdk [DEBUG]:execute: verb=AddFixedPriceItem data={'Item': {'Title': 'New Ivory Wamsutta Dreamzone Pillowcase Set King Size 750 TC', 'Country': 'US', 'Location': 'CA', 'Site': 'US', 'ConditionID': '1000', 'PaymentMethods': 'PayPal', 'PayPalEmailAddress': 'alexm7701@gmail.com', 'PrimaryCategory': {'CategoryID': '43397'}, 'ListingDuration': 'Days_10', 'Description': 'Includes 2 King Pillowcases (20 in x 40 in), made from 100% Cotton', 'StartPrice': 40, 'Currency': 'USD', 'PictureDetails': {'PictureURL': []}, 'ItemSpecifics': {'NameValueList': [{'Name': 'Brand', 'Value': 'Wamsutta Dreamzone'}, {'Name': 'Color', 'Value': 'Ivory'}, {'Name': 'Size', 'Value': 'King'}, {'Name': 'Material', 'Value': 'Cotton'}, {'Name': 'Type', 'Value': 'Pillowcase Set'}]}, 'ReturnPolicy': {'ReturnsAcceptedOption': 'ReturnsNotAccepted'}, 'ShippingDetails': {'ShippingServiceOptions': {'FreeShipping': 'True', 'ShippingService': 'USPSFirstClass'}}, 'DispatchTimeMax': '1'}}\n",
            "2020-09-01 23:35:36,247 ebaysdk [DEBUG]:REQUEST (e6b3ddce-daac-4705-9c3f-d13d4a10a9d8): POST https://api.ebay.com/ws/api.dll\n",
            "2020-09-01 23:35:36,248 ebaysdk [DEBUG]:headers={'X-EBAY-API-COMPATIBILITY-LEVEL': '837', 'X-EBAY-API-DEV-NAME': '7eb728b9-29b3-483b-ade1-3fd88988f59b', 'X-EBAY-API-APP-NAME': 'AlexMak-PycharmT-PRD-82eba4255-32577e0c', 'X-EBAY-API-CERT-NAME': 'PRD-2eba4255122e-9458-4a81-b213-a95d', 'X-EBAY-API-SITEID': '0', 'X-EBAY-API-CALL-NAME': 'AddFixedPriceItem', 'Content-Type': 'text/xml', 'User-Agent': 'eBaySDK/2.2.0 Python/3.6.9 Linux/4.19.112+', 'X-EBAY-SDK-REQUEST-ID': 'e6b3ddce-daac-4705-9c3f-d13d4a10a9d8', 'Content-Length': '2335'}\n",
            "2020-09-01 23:35:36,250 ebaysdk [DEBUG]:body=b'<?xml version=\\'1.0\\' encoding=\\'utf-8\\'?><AddFixedPriceItemRequest xmlns=\"urn:ebay:apis:eBLBaseComponents\"><RequesterCredentials><eBayAuthToken>AgAAAA**AQAAAA**aAAAAA**l5rxXg**nY+sHZ2PrBmdj6wVnY+sEZ2PrA2dj6ANmICmDJKBqQ6dj6x9nY+seQ**sFgGAA**AAMAAA**5fc5kGY5FXEx/tFXCiI9wJz56vMEe2NQSkLnx9OdqH2FMVV0mC5zWSdVy3tBB/VhrkX0axyHltSvZLXO6OnayBCMLGjXV2ao3RvkoaLRid8pEVwy1vMTcv2iNhGwi/V9W67YMTDItwxQGAIwz1O3HUpxCMUKE0x2lR3CFqX3ZKppNJiexLS0CFV5JMrv7WyhJvulC1WKqz1x5DgS2Dtjr3LbKf86lpvegeejGVwnuSQQ2djoh/B7JB6g+wsNLORsa6qr0/DdGFi2f1o2PkkVDVJLD8Hvk0pLWqNac9iYTfPtX38CtL5YKd7iQUY6srnfwm3sM3SIzILnd9W3OlSBxJnzdpYNNl8hRsIRkVzvY/bE+n9vCEYrQVfYjh2aZdPFJcvEANhmfCIEWbCxo4Qq13sITT3hq9A0/fnjv0ytFH46vYLqp0egaHGsqXoIcfncaMIckdDxG+lJjng9H26/denN98mvJRlj6pX+158Hbzcfkj8EyhbYSKLk/IR4Gcb2onxys8MTMQQVP4xnbnpIDTcpBBH2/77TKMzLFNP9+RqZs4ADXSQeMqKlS8w/LdIPxXbNUJqQmhvEXzEKShcQErnYhDP+otF1roUk7XfwdE3toSmhsNaWXTzHHZmO6o3dc1kZwuq9SECcUsD0mpPi7zKGWnMIbesCyWI88iGJKvy2L3gjboJB9F4EIpJPxtLH1AOjcN6MnmFVpHczHWk0nBJ27PG6rBL/xHJxZ2YgyEnjcdg/RIYILX3VBuSkoAWF</eBayAuthToken></RequesterCredentials><Item><ConditionID>1000</ConditionID><Country>US</Country><Currency>USD</Currency><Description>Includes 2 King Pillowcases (20 in x 40 in), made from 100% Cotton</Description><DispatchTimeMax>1</DispatchTimeMax><ItemSpecifics><NameValueList><Name>Brand</Name><Value>Wamsutta Dreamzone</Value></NameValueList><NameValueList><Name>Color</Name><Value>Ivory</Value></NameValueList><NameValueList><Name>Size</Name><Value>King</Value></NameValueList><NameValueList><Name>Material</Name><Value>Cotton</Value></NameValueList><NameValueList><Name>Type</Name><Value>Pillowcase Set</Value></NameValueList></ItemSpecifics><ListingDuration>Days_10</ListingDuration><Location>CA</Location><PayPalEmailAddress>alexm7701@gmail.com</PayPalEmailAddress><PaymentMethods>PayPal</PaymentMethods><PictureDetails></PictureDetails><PrimaryCategory><CategoryID>43397</CategoryID></PrimaryCategory><ReturnPolicy><ReturnsAcceptedOption>ReturnsNotAccepted</ReturnsAcceptedOption></ReturnPolicy><ShippingDetails><ShippingServiceOptions><FreeShipping>True</FreeShipping><ShippingService>USPSFirstClass</ShippingService></ShippingServiceOptions></ShippingDetails><Site>US</Site><StartPrice>40</StartPrice><Title>New Ivory Wamsutta Dreamzone Pillowcase Set King Size 750 TC</Title></Item></AddFixedPriceItemRequest>'\n",
            "2020-09-01 23:35:37,704 ebaysdk [DEBUG]:RESPONSE (e6b3ddce-daac-4705-9c3f-d13d4a10a9d8):\n",
            "2020-09-01 23:35:37,705 ebaysdk [DEBUG]:elapsed time=0:00:01.452098\n",
            "2020-09-01 23:35:37,705 ebaysdk [DEBUG]:status code=200\n",
            "2020-09-01 23:35:37,706 ebaysdk [DEBUG]:headers={'content-type': 'text/xml', 'guid': '1744c069-ee50-a9e3-a533-feb3fee46957', 'server': 'ebay-proxy-server', 'x-ebay-api-pool-name': '___cDRidW8ydmtv', 'x-ebay-api-server-name': '___dWtgNTEqMDIyPjM0MigyNSg1Mj0oNTsrNzM2Pz43OzU=', 'x-ebay-esb-app-name': 'AlexMak-PycharmT-PRD-82eba4255-32577e0c', 'x-ebay-esb-call-name': 'AddFixedPriceItem', 'x-ebay-esb-guid': 'urn:uuid:c36d5c0f-4773-4ad6-aeea-adfd9d5302bb', 'x-ebay-esb-siteid': '0', 'x-ebay-request-id': '1744c069-ee50-a9e3-a533-feb3fee46957!ws.api.dll!10.158.58.83!esbnewtrdngesb[', 'date': 'Tue, 01 Sep 2020 23:35:37 GMT', 'content-length': '2896', 'x-envoy-upstream-service-time': '1273', 'x-ebay-pop-id': 'UFES2-SLCAZ01-api'}\n",
            "2020-09-01 23:35:37,707 ebaysdk [DEBUG]:content=<?xml version=\"1.0\" encoding=\"UTF-8\"?>\n",
            "<AddFixedPriceItemResponse xmlns=\"urn:ebay:apis:eBLBaseComponents\"><Timestamp>2020-09-01T23:35:37.656Z</Timestamp><Ack>Warning</Ack><Errors><ShortMessage>Only Good &apos;Til Cancelled duration is supported for fixed price listings.</ShortMessage><LongMessage>To help you sell your item, fixed price listings can only be listed with a Good &apos;Til Cancelled duration. The listing duration has been set to Good &apos;Til Cancelled.</LongMessage><ErrorCode>21920214</ErrorCode><SeverityCode>Warning</SeverityCode><ErrorClassification>RequestError</ErrorClassification></Errors><Version>1169</Version><Build>E1169_UNI_API5_19247202_R1</Build><ItemID>224141431305</ItemID><StartTime>2020-09-01T23:35:36.953Z</StartTime><EndTime>2020-10-01T23:35:36.953Z</EndTime><Fees><Fee><Name>AuctionLengthFee</Name><Fee currencyID=\"USD\">0.0</Fee></Fee><Fee><Name>BoldFee</Name><Fee currencyID=\"USD\">0.0</Fee></Fee><Fee><Name>BuyItNowFee</Name><Fee currencyID=\"USD\">0.0</Fee></Fee><Fee><Name>CategoryFeaturedFee</Name><Fee currencyID=\"USD\">0.0</Fee></Fee><Fee><Name>FeaturedFee</Name><Fee currencyID=\"USD\">0.0</Fee></Fee><Fee><Name>GalleryPlusFee</Name><Fee currencyID=\"USD\">0.0</Fee></Fee><Fee><Name>FeaturedGalleryFee</Name><Fee currencyID=\"USD\">0.0</Fee></Fee><Fee><Name>FixedPriceDurationFee</Name><Fee currencyID=\"USD\">0.0</Fee></Fee><Fee><Name>GalleryFee</Name><Fee currencyID=\"USD\">0.0</Fee></Fee><Fee><Name>GiftIconFee</Name><Fee currencyID=\"USD\">0.0</Fee></Fee><Fee><Name>HighLightFee</Name><Fee currencyID=\"USD\">0.0</Fee></Fee><Fee><Name>InsertionFee</Name><Fee currencyID=\"USD\">0.0</Fee><PromotionalDiscount currencyID=\"USD\">0.35</PromotionalDiscount></Fee><Fee><Name>InternationalInsertionFee</Name><Fee currencyID=\"USD\">0.0</Fee></Fee><Fee><Name>ListingDesignerFee</Name><Fee currencyID=\"USD\">0.0</Fee></Fee><Fee><Name>ListingFee</Name><Fee currencyID=\"USD\">0.0</Fee><PromotionalDiscount currencyID=\"USD\">0.35</PromotionalDiscount></Fee><Fee><Name>PhotoDisplayFee</Name><Fee currencyID=\"USD\">0.0</Fee></Fee><Fee><Name>PhotoFee</Name><Fee currencyID=\"USD\">0.0</Fee></Fee><Fee><Name>ReserveFee</Name><Fee currencyID=\"USD\">0.0</Fee></Fee><Fee><Name>SchedulingFee</Name><Fee currencyID=\"USD\">0.0</Fee></Fee><Fee><Name>SubtitleFee</Name><Fee currencyID=\"USD\">0.0</Fee></Fee><Fee><Name>BorderFee</Name><Fee currencyID=\"USD\">0.0</Fee></Fee><Fee><Name>ProPackBundleFee</Name><Fee currencyID=\"USD\">0.0</Fee></Fee><Fee><Name>BasicUpgradePackBundleFee</Name><Fee currencyID=\"USD\">0.0</Fee></Fee><Fee><Name>ValuePackBundleFee</Name><Fee currencyID=\"USD\">0.0</Fee></Fee><Fee><Name>PrivateListingFee</Name><Fee currencyID=\"USD\">0.0</Fee></Fee><Fee><Name>ProPackPlusBundleFee</Name><Fee currencyID=\"USD\">0.0</Fee></Fee><Fee><Name>MotorsGermanySearchFee</Name><Fee currencyID=\"USD\">0.0</Fee></Fee></Fees><DiscountReason>SpecialOffer</DiscountReason></AddFixedPriceItemResponse>\n",
            "2020-09-01 23:35:37,713 ebaysdk [WARNING]:AddFixedPriceItem: Class: RequestError, Severity: Warning, Code: 21920214, Only Good 'Til Cancelled duration is supported for fixed price listings. To help you sell your item, fixed price listings can only be listed with a Good 'Til Cancelled duration. The listing duration has been set to Good 'Til Cancelled.\n",
            "\n",
            "\n",
            "2020-09-01 23:35:37,714 ebaysdk [DEBUG]:total time=1.4676692485809326\n",
            "2020-09-01 23:35:37,715 ebaysdk [DEBUG]:execute: verb=AddFixedPriceItem data={'Item': {'Title': 'New Laven Wamsutta Dreamzone Pillowcase Set King Size 750 TC', 'Country': 'US', 'Location': 'CA', 'Site': 'US', 'ConditionID': '1000', 'PaymentMethods': 'PayPal', 'PayPalEmailAddress': 'alexm7701@gmail.com', 'PrimaryCategory': {'CategoryID': '43397'}, 'ListingDuration': 'Days_10', 'Description': 'Includes 2 King Pillowcases (20 in x 40 in), made from 100% Cotton', 'StartPrice': 40, 'Currency': 'USD', 'PictureDetails': {'PictureURL': []}, 'ItemSpecifics': {'NameValueList': [{'Name': 'Brand', 'Value': 'Wamsutta Dreamzone'}, {'Name': 'Color', 'Value': 'Laven'}, {'Name': 'Size', 'Value': 'King'}, {'Name': 'Material', 'Value': 'Cotton'}, {'Name': 'Type', 'Value': 'Pillowcase Set'}]}, 'ReturnPolicy': {'ReturnsAcceptedOption': 'ReturnsNotAccepted'}, 'ShippingDetails': {'ShippingServiceOptions': {'FreeShipping': 'True', 'ShippingService': 'USPSFirstClass'}}, 'DispatchTimeMax': '1'}}\n",
            "2020-09-01 23:35:37,717 ebaysdk [DEBUG]:REQUEST (59f7e76e-b590-4f0a-8297-1847a1b1e0c6): POST https://api.ebay.com/ws/api.dll\n",
            "2020-09-01 23:35:37,722 ebaysdk [DEBUG]:headers={'X-EBAY-API-COMPATIBILITY-LEVEL': '837', 'X-EBAY-API-DEV-NAME': '7eb728b9-29b3-483b-ade1-3fd88988f59b', 'X-EBAY-API-APP-NAME': 'AlexMak-PycharmT-PRD-82eba4255-32577e0c', 'X-EBAY-API-CERT-NAME': 'PRD-2eba4255122e-9458-4a81-b213-a95d', 'X-EBAY-API-SITEID': '0', 'X-EBAY-API-CALL-NAME': 'AddFixedPriceItem', 'Content-Type': 'text/xml', 'User-Agent': 'eBaySDK/2.2.0 Python/3.6.9 Linux/4.19.112+', 'X-EBAY-SDK-REQUEST-ID': '59f7e76e-b590-4f0a-8297-1847a1b1e0c6', 'Content-Length': '2335'}\n",
            "2020-09-01 23:35:37,723 ebaysdk [DEBUG]:body=b'<?xml version=\\'1.0\\' encoding=\\'utf-8\\'?><AddFixedPriceItemRequest xmlns=\"urn:ebay:apis:eBLBaseComponents\"><RequesterCredentials><eBayAuthToken>AgAAAA**AQAAAA**aAAAAA**l5rxXg**nY+sHZ2PrBmdj6wVnY+sEZ2PrA2dj6ANmICmDJKBqQ6dj6x9nY+seQ**sFgGAA**AAMAAA**5fc5kGY5FXEx/tFXCiI9wJz56vMEe2NQSkLnx9OdqH2FMVV0mC5zWSdVy3tBB/VhrkX0axyHltSvZLXO6OnayBCMLGjXV2ao3RvkoaLRid8pEVwy1vMTcv2iNhGwi/V9W67YMTDItwxQGAIwz1O3HUpxCMUKE0x2lR3CFqX3ZKppNJiexLS0CFV5JMrv7WyhJvulC1WKqz1x5DgS2Dtjr3LbKf86lpvegeejGVwnuSQQ2djoh/B7JB6g+wsNLORsa6qr0/DdGFi2f1o2PkkVDVJLD8Hvk0pLWqNac9iYTfPtX38CtL5YKd7iQUY6srnfwm3sM3SIzILnd9W3OlSBxJnzdpYNNl8hRsIRkVzvY/bE+n9vCEYrQVfYjh2aZdPFJcvEANhmfCIEWbCxo4Qq13sITT3hq9A0/fnjv0ytFH46vYLqp0egaHGsqXoIcfncaMIckdDxG+lJjng9H26/denN98mvJRlj6pX+158Hbzcfkj8EyhbYSKLk/IR4Gcb2onxys8MTMQQVP4xnbnpIDTcpBBH2/77TKMzLFNP9+RqZs4ADXSQeMqKlS8w/LdIPxXbNUJqQmhvEXzEKShcQErnYhDP+otF1roUk7XfwdE3toSmhsNaWXTzHHZmO6o3dc1kZwuq9SECcUsD0mpPi7zKGWnMIbesCyWI88iGJKvy2L3gjboJB9F4EIpJPxtLH1AOjcN6MnmFVpHczHWk0nBJ27PG6rBL/xHJxZ2YgyEnjcdg/RIYILX3VBuSkoAWF</eBayAuthToken></RequesterCredentials><Item><ConditionID>1000</ConditionID><Country>US</Country><Currency>USD</Currency><Description>Includes 2 King Pillowcases (20 in x 40 in), made from 100% Cotton</Description><DispatchTimeMax>1</DispatchTimeMax><ItemSpecifics><NameValueList><Name>Brand</Name><Value>Wamsutta Dreamzone</Value></NameValueList><NameValueList><Name>Color</Name><Value>Laven</Value></NameValueList><NameValueList><Name>Size</Name><Value>King</Value></NameValueList><NameValueList><Name>Material</Name><Value>Cotton</Value></NameValueList><NameValueList><Name>Type</Name><Value>Pillowcase Set</Value></NameValueList></ItemSpecifics><ListingDuration>Days_10</ListingDuration><Location>CA</Location><PayPalEmailAddress>alexm7701@gmail.com</PayPalEmailAddress><PaymentMethods>PayPal</PaymentMethods><PictureDetails></PictureDetails><PrimaryCategory><CategoryID>43397</CategoryID></PrimaryCategory><ReturnPolicy><ReturnsAcceptedOption>ReturnsNotAccepted</ReturnsAcceptedOption></ReturnPolicy><ShippingDetails><ShippingServiceOptions><FreeShipping>True</FreeShipping><ShippingService>USPSFirstClass</ShippingService></ShippingServiceOptions></ShippingDetails><Site>US</Site><StartPrice>40</StartPrice><Title>New Laven Wamsutta Dreamzone Pillowcase Set King Size 750 TC</Title></Item></AddFixedPriceItemRequest>'\n",
            "2020-09-01 23:35:39,252 ebaysdk [DEBUG]:RESPONSE (59f7e76e-b590-4f0a-8297-1847a1b1e0c6):\n",
            "2020-09-01 23:35:39,253 ebaysdk [DEBUG]:elapsed time=0:00:01.528883\n",
            "2020-09-01 23:35:39,254 ebaysdk [DEBUG]:status code=200\n",
            "2020-09-01 23:35:39,255 ebaysdk [DEBUG]:headers={'content-type': 'text/xml', 'guid': '1744c06a-4a90-ada1-a1a0-5240fee3c728', 'server': 'ebay-proxy-server', 'x-ebay-api-pool-name': '___cDRidW8ydmtv', 'x-ebay-api-server-name': '___dWtgNTEqMDM/NTI8NSgyNSg2OjAoNTAwKDYyPz43OzU=', 'x-ebay-esb-app-name': 'AlexMak-PycharmT-PRD-82eba4255-32577e0c', 'x-ebay-esb-call-name': 'AddFixedPriceItem', 'x-ebay-esb-guid': 'urn:uuid:60089a5c-9fb4-4974-ad4d-a25b6581bcc0', 'x-ebay-esb-siteid': '0', 'x-ebay-request-id': '1744c06a-4a90-ada1-a1a0-5240fee3c728!ws.api.dll!10.218.26.26!esbnewtrdngesb[', 'date': 'Tue, 01 Sep 2020 23:35:39 GMT', 'content-length': '2896', 'x-envoy-upstream-service-time': '1346', 'x-ebay-pop-id': 'UFES2-SLCAZ01-api'}\n",
            "2020-09-01 23:35:39,256 ebaysdk [DEBUG]:content=<?xml version=\"1.0\" encoding=\"UTF-8\"?>\n",
            "<AddFixedPriceItemResponse xmlns=\"urn:ebay:apis:eBLBaseComponents\"><Timestamp>2020-09-01T23:35:39.219Z</Timestamp><Ack>Warning</Ack><Errors><ShortMessage>Only Good &apos;Til Cancelled duration is supported for fixed price listings.</ShortMessage><LongMessage>To help you sell your item, fixed price listings can only be listed with a Good &apos;Til Cancelled duration. The listing duration has been set to Good &apos;Til Cancelled.</LongMessage><ErrorCode>21920214</ErrorCode><SeverityCode>Warning</SeverityCode><ErrorClassification>RequestError</ErrorClassification></Errors><Version>1169</Version><Build>E1169_UNI_API5_19247202_R1</Build><ItemID>224141431317</ItemID><StartTime>2020-09-01T23:35:38.469Z</StartTime><EndTime>2020-10-01T23:35:38.469Z</EndTime><Fees><Fee><Name>AuctionLengthFee</Name><Fee currencyID=\"USD\">0.0</Fee></Fee><Fee><Name>BoldFee</Name><Fee currencyID=\"USD\">0.0</Fee></Fee><Fee><Name>BuyItNowFee</Name><Fee currencyID=\"USD\">0.0</Fee></Fee><Fee><Name>CategoryFeaturedFee</Name><Fee currencyID=\"USD\">0.0</Fee></Fee><Fee><Name>FeaturedFee</Name><Fee currencyID=\"USD\">0.0</Fee></Fee><Fee><Name>GalleryPlusFee</Name><Fee currencyID=\"USD\">0.0</Fee></Fee><Fee><Name>FeaturedGalleryFee</Name><Fee currencyID=\"USD\">0.0</Fee></Fee><Fee><Name>FixedPriceDurationFee</Name><Fee currencyID=\"USD\">0.0</Fee></Fee><Fee><Name>GalleryFee</Name><Fee currencyID=\"USD\">0.0</Fee></Fee><Fee><Name>GiftIconFee</Name><Fee currencyID=\"USD\">0.0</Fee></Fee><Fee><Name>HighLightFee</Name><Fee currencyID=\"USD\">0.0</Fee></Fee><Fee><Name>InsertionFee</Name><Fee currencyID=\"USD\">0.0</Fee><PromotionalDiscount currencyID=\"USD\">0.35</PromotionalDiscount></Fee><Fee><Name>InternationalInsertionFee</Name><Fee currencyID=\"USD\">0.0</Fee></Fee><Fee><Name>ListingDesignerFee</Name><Fee currencyID=\"USD\">0.0</Fee></Fee><Fee><Name>ListingFee</Name><Fee currencyID=\"USD\">0.0</Fee><PromotionalDiscount currencyID=\"USD\">0.35</PromotionalDiscount></Fee><Fee><Name>PhotoDisplayFee</Name><Fee currencyID=\"USD\">0.0</Fee></Fee><Fee><Name>PhotoFee</Name><Fee currencyID=\"USD\">0.0</Fee></Fee><Fee><Name>ReserveFee</Name><Fee currencyID=\"USD\">0.0</Fee></Fee><Fee><Name>SchedulingFee</Name><Fee currencyID=\"USD\">0.0</Fee></Fee><Fee><Name>SubtitleFee</Name><Fee currencyID=\"USD\">0.0</Fee></Fee><Fee><Name>BorderFee</Name><Fee currencyID=\"USD\">0.0</Fee></Fee><Fee><Name>ProPackBundleFee</Name><Fee currencyID=\"USD\">0.0</Fee></Fee><Fee><Name>BasicUpgradePackBundleFee</Name><Fee currencyID=\"USD\">0.0</Fee></Fee><Fee><Name>ValuePackBundleFee</Name><Fee currencyID=\"USD\">0.0</Fee></Fee><Fee><Name>PrivateListingFee</Name><Fee currencyID=\"USD\">0.0</Fee></Fee><Fee><Name>ProPackPlusBundleFee</Name><Fee currencyID=\"USD\">0.0</Fee></Fee><Fee><Name>MotorsGermanySearchFee</Name><Fee currencyID=\"USD\">0.0</Fee></Fee></Fees><DiscountReason>SpecialOffer</DiscountReason></AddFixedPriceItemResponse>\n",
            "2020-09-01 23:35:39,274 ebaysdk [WARNING]:AddFixedPriceItem: Class: RequestError, Severity: Warning, Code: 21920214, Only Good 'Til Cancelled duration is supported for fixed price listings. To help you sell your item, fixed price listings can only be listed with a Good 'Til Cancelled duration. The listing duration has been set to Good 'Til Cancelled.\n",
            "\n",
            "\n",
            "2020-09-01 23:35:39,275 ebaysdk [DEBUG]:total time=1.5579652786254883\n",
            "2020-09-01 23:35:39,275 ebaysdk [DEBUG]:execute: verb=AddFixedPriceItem data={'Item': {'Title': 'New Laven Wamsutta Dreamzone Pillowcase Set Queen Size 750 TC', 'Country': 'US', 'Location': 'CA', 'Site': 'US', 'ConditionID': '1000', 'PaymentMethods': 'PayPal', 'PayPalEmailAddress': 'alexm7701@gmail.com', 'PrimaryCategory': {'CategoryID': '43397'}, 'ListingDuration': 'Days_10', 'Description': 'Includes 2 Queen Pillowcases (20 in x 32 in), made from 100% Cotton', 'StartPrice': 40, 'Currency': 'USD', 'PictureDetails': {'PictureURL': []}, 'ItemSpecifics': {'NameValueList': [{'Name': 'Brand', 'Value': 'Wamsutta Dreamzone'}, {'Name': 'Color', 'Value': 'Laven'}, {'Name': 'Size', 'Value': 'Queen'}, {'Name': 'Material', 'Value': 'Cotton'}, {'Name': 'Type', 'Value': 'Pillowcase Set'}]}, 'ReturnPolicy': {'ReturnsAcceptedOption': 'ReturnsNotAccepted'}, 'ShippingDetails': {'ShippingServiceOptions': {'FreeShipping': 'True', 'ShippingService': 'USPSFirstClass'}}, 'DispatchTimeMax': '1'}}\n",
            "2020-09-01 23:35:39,277 ebaysdk [DEBUG]:REQUEST (abed671f-6bf6-4f5a-b75f-11bdcb65af51): POST https://api.ebay.com/ws/api.dll\n",
            "2020-09-01 23:35:39,278 ebaysdk [DEBUG]:headers={'X-EBAY-API-COMPATIBILITY-LEVEL': '837', 'X-EBAY-API-DEV-NAME': '7eb728b9-29b3-483b-ade1-3fd88988f59b', 'X-EBAY-API-APP-NAME': 'AlexMak-PycharmT-PRD-82eba4255-32577e0c', 'X-EBAY-API-CERT-NAME': 'PRD-2eba4255122e-9458-4a81-b213-a95d', 'X-EBAY-API-SITEID': '0', 'X-EBAY-API-CALL-NAME': 'AddFixedPriceItem', 'Content-Type': 'text/xml', 'User-Agent': 'eBaySDK/2.2.0 Python/3.6.9 Linux/4.19.112+', 'X-EBAY-SDK-REQUEST-ID': 'abed671f-6bf6-4f5a-b75f-11bdcb65af51', 'Content-Length': '2338'}\n",
            "2020-09-01 23:35:39,279 ebaysdk [DEBUG]:body=b'<?xml version=\\'1.0\\' encoding=\\'utf-8\\'?><AddFixedPriceItemRequest xmlns=\"urn:ebay:apis:eBLBaseComponents\"><RequesterCredentials><eBayAuthToken>AgAAAA**AQAAAA**aAAAAA**l5rxXg**nY+sHZ2PrBmdj6wVnY+sEZ2PrA2dj6ANmICmDJKBqQ6dj6x9nY+seQ**sFgGAA**AAMAAA**5fc5kGY5FXEx/tFXCiI9wJz56vMEe2NQSkLnx9OdqH2FMVV0mC5zWSdVy3tBB/VhrkX0axyHltSvZLXO6OnayBCMLGjXV2ao3RvkoaLRid8pEVwy1vMTcv2iNhGwi/V9W67YMTDItwxQGAIwz1O3HUpxCMUKE0x2lR3CFqX3ZKppNJiexLS0CFV5JMrv7WyhJvulC1WKqz1x5DgS2Dtjr3LbKf86lpvegeejGVwnuSQQ2djoh/B7JB6g+wsNLORsa6qr0/DdGFi2f1o2PkkVDVJLD8Hvk0pLWqNac9iYTfPtX38CtL5YKd7iQUY6srnfwm3sM3SIzILnd9W3OlSBxJnzdpYNNl8hRsIRkVzvY/bE+n9vCEYrQVfYjh2aZdPFJcvEANhmfCIEWbCxo4Qq13sITT3hq9A0/fnjv0ytFH46vYLqp0egaHGsqXoIcfncaMIckdDxG+lJjng9H26/denN98mvJRlj6pX+158Hbzcfkj8EyhbYSKLk/IR4Gcb2onxys8MTMQQVP4xnbnpIDTcpBBH2/77TKMzLFNP9+RqZs4ADXSQeMqKlS8w/LdIPxXbNUJqQmhvEXzEKShcQErnYhDP+otF1roUk7XfwdE3toSmhsNaWXTzHHZmO6o3dc1kZwuq9SECcUsD0mpPi7zKGWnMIbesCyWI88iGJKvy2L3gjboJB9F4EIpJPxtLH1AOjcN6MnmFVpHczHWk0nBJ27PG6rBL/xHJxZ2YgyEnjcdg/RIYILX3VBuSkoAWF</eBayAuthToken></RequesterCredentials><Item><ConditionID>1000</ConditionID><Country>US</Country><Currency>USD</Currency><Description>Includes 2 Queen Pillowcases (20 in x 32 in), made from 100% Cotton</Description><DispatchTimeMax>1</DispatchTimeMax><ItemSpecifics><NameValueList><Name>Brand</Name><Value>Wamsutta Dreamzone</Value></NameValueList><NameValueList><Name>Color</Name><Value>Laven</Value></NameValueList><NameValueList><Name>Size</Name><Value>Queen</Value></NameValueList><NameValueList><Name>Material</Name><Value>Cotton</Value></NameValueList><NameValueList><Name>Type</Name><Value>Pillowcase Set</Value></NameValueList></ItemSpecifics><ListingDuration>Days_10</ListingDuration><Location>CA</Location><PayPalEmailAddress>alexm7701@gmail.com</PayPalEmailAddress><PaymentMethods>PayPal</PaymentMethods><PictureDetails></PictureDetails><PrimaryCategory><CategoryID>43397</CategoryID></PrimaryCategory><ReturnPolicy><ReturnsAcceptedOption>ReturnsNotAccepted</ReturnsAcceptedOption></ReturnPolicy><ShippingDetails><ShippingServiceOptions><FreeShipping>True</FreeShipping><ShippingService>USPSFirstClass</ShippingService></ShippingServiceOptions></ShippingDetails><Site>US</Site><StartPrice>40</StartPrice><Title>New Laven Wamsutta Dreamzone Pillowcase Set Queen Size 750 TC</Title></Item></AddFixedPriceItemRequest>'\n",
            "2020-09-01 23:35:40,816 ebaysdk [DEBUG]:RESPONSE (abed671f-6bf6-4f5a-b75f-11bdcb65af51):\n",
            "2020-09-01 23:35:40,817 ebaysdk [DEBUG]:elapsed time=0:00:01.536042\n",
            "2020-09-01 23:35:40,818 ebaysdk [DEBUG]:status code=200\n",
            "2020-09-01 23:35:40,818 ebaysdk [DEBUG]:headers={'content-type': 'text/xml', 'guid': '1744c06a-ab90-a9e4-1153-a9c3fee24ac6', 'server': 'ebay-proxy-server', 'x-ebay-api-pool-name': '___cDRidW8ydmtv', 'x-ebay-api-server-name': '___dWtgNTEqMDM/MDowPigyNSg1Mj0oNjU8KDY2PTw/Mz02', 'x-ebay-esb-app-name': 'AlexMak-PycharmT-PRD-82eba4255-32577e0c', 'x-ebay-esb-call-name': 'AddFixedPriceItem', 'x-ebay-esb-guid': 'urn:uuid:40d60c92-b9bf-4837-8123-7c383d96cef2', 'x-ebay-esb-siteid': '0', 'x-ebay-request-id': '1744c06a-ab90-a9e4-1153-a9c3fee24ac6!ws.api.dll!10.158.65.21!esbnewtrdngesb[', 'date': 'Tue, 01 Sep 2020 23:35:40 GMT', 'content-length': '2896', 'x-envoy-upstream-service-time': '1357', 'x-ebay-pop-id': 'UFES2-SLCAZ01-api'}\n",
            "2020-09-01 23:35:40,819 ebaysdk [DEBUG]:content=<?xml version=\"1.0\" encoding=\"UTF-8\"?>\n",
            "<AddFixedPriceItemResponse xmlns=\"urn:ebay:apis:eBLBaseComponents\"><Timestamp>2020-09-01T23:35:40.766Z</Timestamp><Ack>Warning</Ack><Errors><ShortMessage>Only Good &apos;Til Cancelled duration is supported for fixed price listings.</ShortMessage><LongMessage>To help you sell your item, fixed price listings can only be listed with a Good &apos;Til Cancelled duration. The listing duration has been set to Good &apos;Til Cancelled.</LongMessage><ErrorCode>21920214</ErrorCode><SeverityCode>Warning</SeverityCode><ErrorClassification>RequestError</ErrorClassification></Errors><Version>1169</Version><Build>E1169_UNI_API5_19247202_R1</Build><ItemID>224141431331</ItemID><StartTime>2020-09-01T23:35:39.907Z</StartTime><EndTime>2020-10-01T23:35:39.907Z</EndTime><Fees><Fee><Name>AuctionLengthFee</Name><Fee currencyID=\"USD\">0.0</Fee></Fee><Fee><Name>BoldFee</Name><Fee currencyID=\"USD\">0.0</Fee></Fee><Fee><Name>BuyItNowFee</Name><Fee currencyID=\"USD\">0.0</Fee></Fee><Fee><Name>CategoryFeaturedFee</Name><Fee currencyID=\"USD\">0.0</Fee></Fee><Fee><Name>FeaturedFee</Name><Fee currencyID=\"USD\">0.0</Fee></Fee><Fee><Name>GalleryPlusFee</Name><Fee currencyID=\"USD\">0.0</Fee></Fee><Fee><Name>FeaturedGalleryFee</Name><Fee currencyID=\"USD\">0.0</Fee></Fee><Fee><Name>FixedPriceDurationFee</Name><Fee currencyID=\"USD\">0.0</Fee></Fee><Fee><Name>GalleryFee</Name><Fee currencyID=\"USD\">0.0</Fee></Fee><Fee><Name>GiftIconFee</Name><Fee currencyID=\"USD\">0.0</Fee></Fee><Fee><Name>HighLightFee</Name><Fee currencyID=\"USD\">0.0</Fee></Fee><Fee><Name>InsertionFee</Name><Fee currencyID=\"USD\">0.0</Fee><PromotionalDiscount currencyID=\"USD\">0.35</PromotionalDiscount></Fee><Fee><Name>InternationalInsertionFee</Name><Fee currencyID=\"USD\">0.0</Fee></Fee><Fee><Name>ListingDesignerFee</Name><Fee currencyID=\"USD\">0.0</Fee></Fee><Fee><Name>ListingFee</Name><Fee currencyID=\"USD\">0.0</Fee><PromotionalDiscount currencyID=\"USD\">0.35</PromotionalDiscount></Fee><Fee><Name>PhotoDisplayFee</Name><Fee currencyID=\"USD\">0.0</Fee></Fee><Fee><Name>PhotoFee</Name><Fee currencyID=\"USD\">0.0</Fee></Fee><Fee><Name>ReserveFee</Name><Fee currencyID=\"USD\">0.0</Fee></Fee><Fee><Name>SchedulingFee</Name><Fee currencyID=\"USD\">0.0</Fee></Fee><Fee><Name>SubtitleFee</Name><Fee currencyID=\"USD\">0.0</Fee></Fee><Fee><Name>BorderFee</Name><Fee currencyID=\"USD\">0.0</Fee></Fee><Fee><Name>ProPackBundleFee</Name><Fee currencyID=\"USD\">0.0</Fee></Fee><Fee><Name>BasicUpgradePackBundleFee</Name><Fee currencyID=\"USD\">0.0</Fee></Fee><Fee><Name>ValuePackBundleFee</Name><Fee currencyID=\"USD\">0.0</Fee></Fee><Fee><Name>PrivateListingFee</Name><Fee currencyID=\"USD\">0.0</Fee></Fee><Fee><Name>ProPackPlusBundleFee</Name><Fee currencyID=\"USD\">0.0</Fee></Fee><Fee><Name>MotorsGermanySearchFee</Name><Fee currencyID=\"USD\">0.0</Fee></Fee></Fees><DiscountReason>SpecialOffer</DiscountReason></AddFixedPriceItemResponse>\n",
            "2020-09-01 23:35:40,834 ebaysdk [WARNING]:AddFixedPriceItem: Class: RequestError, Severity: Warning, Code: 21920214, Only Good 'Til Cancelled duration is supported for fixed price listings. To help you sell your item, fixed price listings can only be listed with a Good 'Til Cancelled duration. The listing duration has been set to Good 'Til Cancelled.\n",
            "\n",
            "\n",
            "2020-09-01 23:35:40,836 ebaysdk [DEBUG]:total time=1.5596187114715576\n"
          ],
          "name": "stderr"
        }
      ]
    },
    {
      "cell_type": "code",
      "metadata": {
        "id": "EUl5LJBZeALs",
        "colab_type": "code",
        "colab": {}
      },
      "source": [
        ""
      ],
      "execution_count": null,
      "outputs": []
    }
  ]
}